{
 "cells": [
  {
   "cell_type": "markdown",
   "metadata": {},
   "source": [
    "# Using the built-in functions on Numbers perform following operations\n",
    "\n",
    "a) Round of the given floating point number. Example:  n=0.543 then round it next decimal number, i.e n=1.0 Use round() function\n",
    "\n",
    "b) Find out the square root of a given number. (Use sqrt(x) function)\n",
    "\n",
    "c) Generate random number between 0, and 1 ( use  random() function)\n",
    "\n",
    "d) Generate random number between 10 and  500. (Use uniform() function)\n",
    "\n",
    "e) Explore all Math and Random module functions  on a given number/ List.\n"
   ]
  },
  {
   "cell_type": "code",
   "execution_count": 44,
   "metadata": {},
   "outputs": [
    {
     "name": "stdout",
     "output_type": "stream",
     "text": [
      "round :  1.0\n",
      "Square Root : 3.0\n",
      "Random number between 0 and 1 :  0.5054067075587625\n",
      "Range between 0 and 100 : 40\n",
      "Range between 10 and 500 using uniform : 49.90663336984735\n"
     ]
    }
   ],
   "source": [
    "import math\n",
    "from random import random, randrange, uniform\n",
    "\n",
    "def Round(x):\n",
    "    return(round(x, 0))\n",
    "\n",
    "def Root(x):\n",
    "    return(math.sqrt(x))\n",
    "    \n",
    "def Random():\n",
    "    return random()\n",
    "\n",
    "def Range():\n",
    "    return randrange(0, 100)\n",
    "\n",
    "def Uni():\n",
    "    return uniform(10, 500)\n",
    "\n",
    "print(\"round : \", Round(0.543))\n",
    "      \n",
    "print(\"Square Root :\", (Root(9)))\n",
    "      \n",
    "print(\"Random number between 0 and 1 : \", Random())\n",
    "      \n",
    "print(\"Range between 0 and 100 :\", Range())\n",
    "      \n",
    "print(\"Range between 10 and 500 using uniform :\", Uni())"
   ]
  },
  {
   "cell_type": "markdown",
   "metadata": {},
   "source": [
    "# Read the value x and y from the user and apply all trigonometric functions on these numbers. Note: Refer the tutorial Trigonometric operation table"
   ]
  },
  {
   "cell_type": "code",
   "execution_count": 45,
   "metadata": {},
   "outputs": [
    {
     "name": "stdout",
     "output_type": "stream",
     "text": [
      "enter the number :1\n",
      "enter the number : 2\n",
      "math.cos( 1 ):  0.5403023058681398\n",
      "math.sin( 1 ):  0.8414709848078965\n",
      "math.tan( 1 ):  1.5574077246549023\n",
      "math.acos( 1 ):  0.0\n",
      "math.asin( 1 ):  1.5707963267948966\n",
      "math.atan( 1 ):  0.7853981633974483\n",
      "math.atan2( 2 , 1 ):  1.1071487177940904\n",
      "math.hypot( 1 , 2 ):  2.23606797749979\n"
     ]
    }
   ],
   "source": [
    "import math\n",
    "\n",
    "x = int(input(\"enter the number :\"))\n",
    "y = int(input(\"enter the number : \"))\n",
    "\n",
    "\n",
    "\n",
    "print(\"math.cos(\",x,\"): \", math.cos(x));\n",
    "print(\"math.sin(\",x,\"): \", math.sin(x));\n",
    "print(\"math.tan(\",x,\"): \", math.tan(x));\n",
    "\n",
    "\n",
    "print(\"math.acos(\",x,\"): \", math.acos(x));\n",
    "print(\"math.asin(\",x,\"): \", math.asin(x));\n",
    "print(\"math.atan(\",x,\"): \", math.atan(x));\n",
    "\n",
    "print(\"math.atan2(\",y,\",\",x,\"): \", math.atan2(y,x))\n",
    "print(\"math.hypot(\",x,\",\",y,\"): \", math.hypot(x,y))"
   ]
  },
  {
   "cell_type": "markdown",
   "metadata": {},
   "source": [
    "# Find the area of Circle given that radius of a circle. (Use pi value from Math module as mathematical constant)"
   ]
  },
  {
   "cell_type": "code",
   "execution_count": 46,
   "metadata": {},
   "outputs": [
    {
     "name": "stdout",
     "output_type": "stream",
     "text": [
      " Please Enter the radius of a circle: 2\n",
      " Area Of a Circle = 12.57\n"
     ]
    }
   ],
   "source": [
    "import math\n",
    "\n",
    "radius = float(input(' Please Enter the radius of a circle: '))\n",
    "area = math.pi * radius * radius\n",
    "\n",
    "print(\" Area Of a Circle = %.2f\" %area)"
   ]
  },
  {
   "cell_type": "markdown",
   "metadata": {},
   "source": [
    "# Special Characters: Write program to explore all Escape characters specified in Tutorial (Under String chapter)"
   ]
  },
  {
   "cell_type": "code",
   "execution_count": 48,
   "metadata": {},
   "outputs": [
    {
     "name": "stdout",
     "output_type": "stream",
     "text": [
      "The string without r / R is :  I\n",
      "Love\tGeeksforgeeks\n",
      "\r\n",
      "The string after using r is :  I\\nLove\\tGeeksforgeeks\n",
      "\r\n",
      "The string after using R is :  I\\nLove\\tGeeksforgeeks\n"
     ]
    }
   ],
   "source": [
    "ch = \"I\\nLove\\tGeeksforgeeks\"\n",
    "print (\"The string without r / R is : \", ch)\n",
    "  \n",
    "print (\"\\r\") \n",
    "ch1 = r\"I\\nLove\\tGeeksforgeeks\"\n",
    "print (\"The string after using r is : \", ch1) \n",
    "  \n",
    "print (\"\\r\") \n",
    "ch2 = R\"I\\nLove\\tGeeksforgeeks\"  \n",
    "print (\"The string after using R is : \", ch2) \n"
   ]
  },
  {
   "cell_type": "markdown",
   "metadata": {},
   "source": [
    "# Write a program to print the different data types (Numbers, strings characters) using the Format symbols (Refer to different format symbols specified in Tutorial)"
   ]
  },
  {
   "cell_type": "code",
   "execution_count": 50,
   "metadata": {},
   "outputs": [
    {
     "name": "stdout",
     "output_type": "stream",
     "text": [
      "Data type of this variable is : <class 'int'>\n",
      "Data type of this variable is : <class 'str'>\n",
      "Data type of this variable is : <class 'float'>\n"
     ]
    }
   ],
   "source": [
    "a = 2\n",
    "b = \"My name is Amitabh Mishra\"\n",
    "c = 3.14\n",
    "\n",
    "print(\"Data type of this variable is : {}\".format(type(a)))\n",
    "print(\"Data type of this variable is : {}\".format(type(b)))\n",
    "print(\"Data type of this variable is : {}\".format(type(c)))"
   ]
  },
  {
   "cell_type": "markdown",
   "metadata": {},
   "source": [
    "# Receive the encoded string from your friend & decode it to check the original message. PS: You will receive Encoded string and the Algorithm used for encoding"
   ]
  },
  {
   "cell_type": "code",
   "execution_count": 53,
   "metadata": {},
   "outputs": [
    {
     "name": "stdout",
     "output_type": "stream",
     "text": [
      "<class 'bytes'>\n",
      "<class 'str'>\n",
      "Encoded bytes = b'AMITABH_MISHRA'\n",
      "Decoded String = AMITABH_MISHRA\n",
      "str_original equals str_decoded = True\n"
     ]
    }
   ],
   "source": [
    "a = 'AMITABH_MISHRA'\n",
    "\n",
    "encoded_str = a.encode(encoding='utf-8')\n",
    "print(type(encoded_str))\n",
    "\n",
    "str_decoded = encoded_str.decode()\n",
    "print(type(str_decoded))\n",
    "\n",
    "print('Encoded bytes =', encoded_str)\n",
    "print('Decoded String =', str_decoded)\n",
    "print('str_original equals str_decoded =', a == str_decoded)"
   ]
  },
  {
   "cell_type": "markdown",
   "metadata": {},
   "source": [
    "# Write a program to check given string is Palindrome or not.That is reverse the given string and check whether it is same as original string, if so then it is palindrome.\n",
    "Example: String = \"malayalam\"  reverse string = \"malayalam\" hence given string is palindrome. Use built functions to check given string is palindrome or not."
   ]
  },
  {
   "cell_type": "code",
   "execution_count": 57,
   "metadata": {},
   "outputs": [
    {
     "name": "stdout",
     "output_type": "stream",
     "text": [
      "String 'helleh' is a palindrom\n"
     ]
    }
   ],
   "source": [
    "def palindrom(x):\n",
    "    if x == x[::-1]:\n",
    "        print(\"String '{}' is a palindrom\".format(x))\n",
    "    else:\n",
    "        print(\"String '{}' is not a palindrom\".format(x))\n",
    "        \n",
    "palindrom('helleh')"
   ]
  },
  {
   "cell_type": "markdown",
   "metadata": {},
   "source": [
    "# Write a program to check how many ovals present in the given string. That is, count the number of \" a e i o u\" in the given string and print the numbers against each oval. Example:- \"This is Python\" Number of total ovals = 3, i = 2, o =1"
   ]
  },
  {
   "cell_type": "code",
   "execution_count": 59,
   "metadata": {},
   "outputs": [
    {
     "name": "stdout",
     "output_type": "stream",
     "text": [
      "Enter the string :amitabh mishra\n",
      "amitabh mishra\n",
      "No of total vowels= 5\n",
      "count of A 3\n",
      "count of E 0\n",
      "count of I 2\n",
      "count of O 0\n",
      "count of U 0\n"
     ]
    }
   ],
   "source": [
    "myStr=input(\"Enter the string :\")\n",
    "\n",
    "myStr=myStr.lower()\n",
    "list1=list(myStr)\n",
    "print(myStr)\n",
    "\n",
    "count=0 \n",
    "countA=0 \n",
    "countE=0 \n",
    "countI=0 \n",
    "countO=0 \n",
    "countU=0\n",
    "\n",
    "for i in list1:\n",
    "    if i=='a':\n",
    "        count+=1\n",
    "        countA+=1\n",
    "    elif i=='e':\n",
    "        count+=1\n",
    "        countE+=1\n",
    "    elif i=='i':\n",
    "        count+=1\n",
    "        countI+=1\n",
    "    elif i=='o':\n",
    "        count+=1\n",
    "        countO+=1\n",
    "    elif i=='u':\n",
    "        count+=1\n",
    "        countU+=1\n",
    "        \n",
    "print(\"No of total vowels=\",count)\n",
    "print(\"count of A\",countA)\n",
    "print(\"count of E\",countE)\n",
    "print(\"count of I\",countI)\n",
    "print(\"count of O\",countO)\n",
    "print(\"count of U\",countU)"
   ]
  },
  {
   "cell_type": "markdown",
   "metadata": {},
   "source": [
    "# Apply all built in functions on Strings in your program. Note: There are 40 string functions. Use Tutorial for the help. Note: Each program should have 5 string built in functions(so write 8 programs to cover all string functions)"
   ]
  },
  {
   "cell_type": "code",
   "execution_count": 80,
   "metadata": {},
   "outputs": [
    {
     "name": "stdout",
     "output_type": "stream",
     "text": [
      "str.capitalize(): This is a string\n",
      "str.center(60,'x'): xxxxxxxxxxxxxxxxxxxxxxthis is a stringxxxxxxxxxxxxxxxxxxxxxx\n",
      "str.count(sub,1,30): 3\n",
      "str.count(sub): 0\n",
      "Encoded String: b'this is a string'\n",
      "Decoded String: this is a string \n",
      "\n",
      "str.endswith(suffix): True\n",
      "str.endswith(suffix,10): True\n",
      "str.endswith(suffix, 1, 4): False\n",
      "str.endswith(suffix, 2, 6): True\n",
      "\n",
      "Original string: this is a string\n",
      "Default exapanded tab: this is a string\n",
      "Double exapanded tab: this is a string\n",
      "\n",
      "str.find(str2): 14\n",
      "str.find(str2, 10): 14\n",
      "str.find(str2, 40): -1\n",
      "\n",
      "str.index(str2): 14\n",
      "str.index(str2, 10): 14\n",
      "\n",
      "str.isalnum(): True\n",
      "str.isalnum(): False\n",
      "\n",
      "str.isalpha(): True\n",
      "str.isalpha(): False\n",
      "\n",
      "str.isdigit(): True\n",
      "\n",
      "str.isdigit(): False\n",
      "\n",
      "str.islower(): False\n",
      "str.islower() True\n",
      "\n",
      "str.isnumeric(): False\n",
      "str.isnumeric(): True\n",
      "\n",
      "str.isspace(): True\n",
      "str.isspace(): False\n",
      "\n",
      "str.istitle(): True\n",
      "str.istitle(): False\n",
      "\n",
      "str.isupper(): True\n",
      "str.isupper(): False\n",
      "\n",
      "s.join(seq): a-b-c\n",
      "\n",
      "Length of the string: 22\n",
      "\n",
      "str.ljust(50, '1') this is string example1111111111111111111111111111\n",
      "\n",
      "str.lower(): this is string example\n",
      "\n",
      "str.lstrip(): this is string example    \n",
      "\n",
      "str.lstrip('8'): this is string example8888888\n",
      "\n",
      "Max character:  z\n",
      "Max character:  x\n",
      "\n",
      "Min character: !\n",
      "Min character: -\n",
      "thwas was string example....wow!!! thwas was really string\n",
      "thwas was string example....wow!!! thwas is really string\n",
      "5\n",
      "5\n",
      "-1\n",
      "2\n",
      "2\n",
      "-1\n",
      "5\n",
      "2\n",
      "000000000000000000this is string example....wow!!!\n",
      "     this is string example....wow!!!\n",
      "88888888this is string example....wow!!!\n",
      "['Line1-abcdef', 'Line2-abc', 'Line4-abcd']\n",
      "['Line1-abcdef', '\\nLine2-abc \\nLine4-abcd']\n",
      "['Line1-a b c d e f', 'Line2- a b c', '', 'Line4- a b c d']\n",
      "['Line1-a b c d e f', 'Line2- a b c', '', 'Line4- a b c d']\n",
      "['Line1-a b c d e f\\n', 'Line2- a b c\\n', '\\n', 'Line4- a b c d']\n",
      "['Line1-a b c d e f\\n', 'Line2- a b c\\n', '\\n', 'Line4- a b c d']\n",
      "['Line1-a b c d e f\\n', 'Line2- a b c\\n', '\\n', 'Line4- a b c d']\n",
      "True\n",
      "True\n",
      "False\n",
      "this is string example....wow!!!\n",
      "THIS IS STRING EXAMPLE....WOW!!!\n",
      "this is string example....wow!!!\n",
      "\n",
      "str.title(): This Is String Example!!!\n",
      "\n",
      "str.capitalize(): THIS IS STRING EXAMPLE\n",
      "\n",
      "str.zfill(40): 000000000000000000this is string example\n",
      "str.zfill(50): 0000000000000000000000000000this is string example\n",
      "\n",
      "str.isdecimal(): False\n",
      "str.isdecimal(): True\n"
     ]
    }
   ],
   "source": [
    "#1.First 5 string built-in functions\n",
    "\n",
    "str = \"this is a string\"\n",
    "print(\"str.capitalize():\",str.capitalize())\n",
    "\n",
    "print (\"str.center(60,'x'):\",str.center(60,'x'))\n",
    "\n",
    "sub = \"i\";\n",
    "print (\"str.count(sub,1,30):\",str.count(sub,1,30))\n",
    "sub = \"wow\";\n",
    "print(\"str.count(sub):\",str.count(sub))\n",
    "\n",
    "str = str.encode('utf-8','strict')\n",
    "print (\"Encoded String:\",str)\n",
    "print (\"Decoded String:\",str.decode('utf-8','strict'),'\\n')\n",
    "\n",
    "\n",
    "\n",
    "#2.Second 5 string built in functions\n",
    "str = \"this is a string\"\n",
    "suffix = \"ing\"\n",
    "print(\"str.endswith(suffix):\",str.endswith(suffix))\n",
    "print(\"str.endswith(suffix,10):\",str.endswith(suffix,10))\n",
    "suffix = \"i\"\n",
    "print (\"str.endswith(suffix, 1, 4):\",str.endswith(suffix, 1, 4))\n",
    "print (\"str.endswith(suffix, 2, 6):\",str.endswith(suffix, 2, 6))\n",
    "\n",
    "print (\"\\nOriginal string:\",str)\n",
    "print (\"Default exapanded tab:\",str.expandtabs())\n",
    "print (\"Double exapanded tab:\",str.expandtabs(16))\n",
    "\n",
    "str2 = \"ng\"\n",
    "print (\"\\nstr.find(str2):\",str.find(str2))\n",
    "print (\"str.find(str2, 10):\",str.find(str2, 10))\n",
    "print (\"str.find(str2, 40):\",str.find(str2, 40))\n",
    "\n",
    "print (\"\\nstr.index(str2):\",str.index(str2))\n",
    "print (\"str.index(str2, 10):\",str.index(str2, 10))\n",
    "#print \"str.index(str2, 40):\",str.index(str2, 40)\n",
    "\n",
    "str = \"this2009\"\n",
    "print (\"\\nstr.isalnum():\",str.isalnum())\n",
    "str = \"this is a string\";\n",
    "print(\"str.isalnum():\",str.isalnum())\n",
    "\n",
    "\n",
    "\n",
    "#3.Third set of 5 string built in functions\n",
    "str = \"this\";  \n",
    "print (\"\\nstr.isalpha():\",str.isalpha())\n",
    "str = \"this is string example\"\n",
    "print (\"str.isalpha():\",str.isalpha())\n",
    "\n",
    "str = \"123456\";  # Only digit in this string\n",
    "print(\"\\nstr.isdigit():\",str.isdigit())\n",
    "\n",
    "str = \"this is string example..\";\n",
    "print (\"\\nstr.isdigit():\",str.isdigit())\n",
    "\n",
    "str = \"THIS is string example\"; \n",
    "print (\"\\nstr.islower():\",str.islower())\n",
    "str = \"this is string example\"\n",
    "print (\"str.islower()\",str.islower())\n",
    "\n",
    "str = u\"this2009\";  # u stands for Unicode.One must prefix u to check for isnumeric\n",
    "print (\"\\nstr.isnumeric():\",str.isnumeric())\n",
    "str = u\"23443434\";\n",
    "print (\"str.isnumeric():\",str.isnumeric())\n",
    "\n",
    "str = \"       \"; \n",
    "print (\"\\nstr.isspace():\",str.isspace())\n",
    "str = \"This is string example\";\n",
    "print (\"str.isspace():\",str.isspace())\n",
    "\n",
    "\n",
    "\n",
    "#4.Fourth set of 5 string built in functions\n",
    "str = \"This Is String Example\";\n",
    "print (\"\\nstr.istitle():\",str.istitle())\n",
    "str = \"This is string example\";\n",
    "print (\"str.istitle():\",str.istitle())\n",
    "\n",
    "str = \"THIS IS STRING EXAMPLE\"; \n",
    "print (\"\\nstr.isupper():\",str.isupper())\n",
    "str = \"THIS is string example\";\n",
    "print (\"str.isupper():\",str.isupper())\n",
    "\n",
    "s = \"-\";\n",
    "seq = ('a','b','c'); # This is sequence of strings.\n",
    "print (\"\\ns.join(seq):\",s.join(seq))\n",
    "\n",
    "str = \"this is string example\";\n",
    "print (\"\\nLength of the string:\",len(str))\n",
    "\n",
    "print (\"\\nstr.ljust(50, '1')\",str.ljust(50, '1'))\n",
    "\n",
    "\n",
    "\n",
    "#5.Fifth set of 5 string built in functions\n",
    "str = \"THIS IS STRING EXAMPLE\";\n",
    "print (\"\\nstr.lower():\",str.lower())\n",
    "\n",
    "str = \"     this is string example    \";\n",
    "print (\"\\nstr.lstrip():\",str.lstrip())\n",
    "str = \"88888888this is string example8888888\";\n",
    "print (\"\\nstr.lstrip('8'):\",str.lstrip('8'))\n",
    "\n",
    "str = \"this is really a  frozen string example\";\n",
    "print (\"\\nMax character: \",max(str))\n",
    "str = \"this is a string example\";\n",
    "print (\"Max character: \",max(str))\n",
    "\n",
    "str = \"this-is-real-string!example\";\n",
    "print (\"\\nMin character: \" + min(str))\n",
    "str = \"this-is-a-string-example\";\n",
    "print (\"Min character: \" + min(str))\n",
    "\n",
    "\n",
    "\n",
    "#6.Sixth set of 5 string built in functions\n",
    "str = \"this is string example....wow!!! this is really string\"\n",
    "print (str.replace(\"is\", \"was\"))\n",
    "print (str.replace(\"is\", \"was\", 3))\n",
    "\n",
    "str1 = \"this is really a string example....wow!!!\";\n",
    "str2 = \"is\";\n",
    "print (str1.rfind(str2))\n",
    "print (str1.rfind(str2, 0, 10))\n",
    "print (str1.rfind(str2, 10, 0))\n",
    "print (str1.find(str2))\n",
    "print (str1.find(str2, 0, 10))\n",
    "print (str1.find(str2, 10, 0))\n",
    "\n",
    "str1 = \"this is string example....wow!!!\";\n",
    "str2 = \"is\";\n",
    "print (str1.rindex(str2))\n",
    "print (str1.index(str2))\n",
    "\n",
    "str = \"this is string example....wow!!!\";\n",
    "print (str.rjust(50, '0'))\n",
    "\n",
    "str = \"     this is string example....wow!!!     \";\n",
    "print (str.rstrip())\n",
    "str = \"88888888this is string example....wow!!!8888888\";\n",
    "print (str.rstrip('8'))\n",
    "\n",
    "\n",
    "\n",
    "#7.Seventh set of 5 string built in functions\n",
    "str = \"Line1-abcdef \\nLine2-abc \\nLine4-abcd\";\n",
    "print (str.split( ))\n",
    "print (str.split(' ', 1 ))\n",
    "\n",
    "str = \"Line1-a b c d e f\\nLine2- a b c\\n\\nLine4- a b c d\";\n",
    "print (str.splitlines( ))\n",
    "print (str.splitlines( 0 ))\n",
    "print (str.splitlines( 3 ))\n",
    "print (str.splitlines( 4 ))\n",
    "print (str.splitlines( 5 ))\n",
    "\n",
    "str = \"this is string example....wow!!!\";\n",
    "print (str.startswith( 'this' ))\n",
    "print (str.startswith( 'is', 2, 4 ))\n",
    "print (str.startswith( 'this', 2, 4 ))\n",
    "\n",
    "str = \"0000000this is string example....wow!!!0000000\";\n",
    "print (str.strip( '0' ))\n",
    "\n",
    "str = \"this is string example....wow!!!\";\n",
    "print (str.swapcase())\n",
    "str = \"THIS IS STRING EXAMPLE....WOW!!!\";\n",
    "print (str.swapcase())\n",
    "\n",
    "\n",
    "\n",
    "#8.Eighth set of 5 string built in functions\n",
    "str = \"this is string example!!!\";\n",
    "print (\"\\nstr.title():\",str.title())\n",
    "\n",
    "str = \"this is string example\";\n",
    "print (\"\\nstr.capitalize():\",str.upper())\n",
    "\n",
    "str = \"this is string example\";\n",
    "print (\"\\nstr.zfill(40):\",str.zfill(40))\n",
    "print (\"str.zfill(50):\",str.zfill(50))\n",
    "\n",
    "str = u\"this2009\";  \n",
    "print (\"\\nstr.isdecimal():\",str.isdecimal())\n",
    "str = u\"23443434\";\n",
    "print (\"str.isdecimal():\",str.isdecimal())\n"
   ]
  },
  {
   "cell_type": "markdown",
   "metadata": {},
   "source": [
    "# Write a program to Sort given N numbers (Use only loop structures and Conditions to sort the elements. Use Bubble sort / Selection sort technique to sort the elements of List) Note: Don't use built in functions to sort."
   ]
  },
  {
   "cell_type": "code",
   "execution_count": 3,
   "metadata": {},
   "outputs": [
    {
     "name": "stdout",
     "output_type": "stream",
     "text": [
      "Please Enter the Total Number of Elements : 10\n",
      "Please enter the 0 Element of List1 : 23\n",
      "Please enter the 1 Element of List1 : 5\n",
      "Please enter the 2 Element of List1 : 35\n",
      "Please enter the 3 Element of List1 : 92\n",
      "Please enter the 4 Element of List1 : 4\n",
      "Please enter the 5 Element of List1 : 245\n",
      "Please enter the 6 Element of List1 : 5\n",
      "Please enter the 7 Element of List1 : 67\n",
      "Please enter the 8 Element of List1 : 1\n",
      "Please enter the 9 Element of List1 : 436\n",
      "The Sorted List in Ascending Order :  [1, 4, 5, 5, 23, 35, 67, 92, 245, 436]\n"
     ]
    }
   ],
   "source": [
    "a = []\n",
    "number = int(input(\"Please Enter the Total Number of Elements : \"))\n",
    "\n",
    "for i in range(number):\n",
    "    value = int(input(\"Please enter the %d Element of List1 : \" %i))\n",
    "    a.append(value)\n",
    "\n",
    "for i in range(number -1):\n",
    "    for j in range(number - i - 1):\n",
    "        if(a[j] > a[j + 1]):\n",
    "            temp = a[j]\n",
    "            a[j] = a[j + 1]\n",
    "            a[j + 1] = temp\n",
    "\n",
    "print(\"The Sorted List in Ascending Order : \", a)"
   ]
  },
  {
   "cell_type": "markdown",
   "metadata": {},
   "source": [
    "# Write a program to search an element in the list. i.e. Perform the binary search on the sorted list having integers as elements. If the search is successful print \"Success\" else print \"un successful search\"."
   ]
  },
  {
   "cell_type": "code",
   "execution_count": 7,
   "metadata": {},
   "outputs": [
    {
     "name": "stdout",
     "output_type": "stream",
     "text": [
      "Please Enter the Total Number of Elements : 6\n",
      "Please enter the 0 Element of List1 : 34\n",
      "Please enter the 1 Element of List1 : 2\n",
      "Please enter the 2 Element of List1 : 67\n",
      "Please enter the 3 Element of List1 : 46\n",
      "Please enter the 4 Element of List1 : 89\n",
      "Please enter the 5 Element of List1 : 2\n",
      "The sorted order list1 of elements is [2, 2, 34, 46, 67, 89]\n",
      "Enter the element tosearch from the above list5\n",
      "Unsuccessful search\n"
     ]
    }
   ],
   "source": [
    "\n",
    "a = []\n",
    "number = int(input(\"Please Enter the Total Number of Elements : \"))\n",
    "\n",
    "for i in range(number):\n",
    "    value = int(input(\"Please enter the %d Element of List1 : \" %i))\n",
    "    a.append(value)\n",
    "\n",
    "a.sort()\n",
    "print(\"The sorted order list1 of elements is\",a)\n",
    "\n",
    "searchElement=int(input(\"Enter the element tosearch from the above list\"))\n",
    "\n",
    "found=0\n",
    "for each in a:\n",
    "    if each==searchElement:\n",
    "        print(\"Successful\")\n",
    "        found=1\n",
    "        break\n",
    "if found==0:\n",
    "    print(\"Unsuccessful search\")"
   ]
  },
  {
   "cell_type": "markdown",
   "metadata": {},
   "source": [
    "# Write a program to perform following operations on List. Create three lists as List1, List2 and List3 having 5 city names each list.\n",
    "\n",
    "a. Find the length city of each list element and print city and length\n",
    "\n",
    "b. Find the maximum and minimum string length element of each list\n",
    "\n",
    "c. Compare each list and determine which city is biggest & smallest with length.\n",
    "\n",
    "d. Delete first and last element of each list and print list contents.\n"
   ]
  },
  {
   "cell_type": "code",
   "execution_count": 10,
   "metadata": {},
   "outputs": [
    {
     "name": "stdout",
     "output_type": "stream",
     "text": [
      "['hycgdhd', 'bhgjan', 'bkhggtnglr', 'kjbkher', 'sjllguj']\n",
      "Length of list1 =  5\n",
      "Max of list1= sjllguj\n",
      "Min of list1= bhgjan\n",
      "['karwerwer', 'tejlhkgiyl', 'chddfhil', 'hvraj', 'rojbkhyvk']\n",
      "Length of list2 =  5\n",
      "Max of list2 =  sjllguj\n",
      "Min of list2 =  bhgjan\n",
      "['abcw', 'defervg', 'eddsff', 'eresfd', 'kcdr']\n",
      "Length of list3 =  5\n",
      "Max of list3 =  sjllguj\n",
      "Min of list3 =  bhgjan\n",
      "\n",
      "list2 is the biggest ['karwerwer', 'tejlhkgiyl', 'chddfhil', 'hvraj', 'rojbkhyvk']\n",
      "\n",
      "list3 is the smallest ['abcw', 'defervg', 'eddsff', 'eresfd', 'kcdr']\n",
      "\n",
      "List1 before removing 1st and last element using Pop method\n",
      "['hycgdhd', 'bhgjan', 'bkhggtnglr', 'kjbkher', 'sjllguj']\n",
      "\n",
      "List1 after removing 1st and last element using pop method\n",
      "['bhgjan', 'bkhggtnglr', 'kjbkher']\n",
      "\n",
      "List2 before removing 1st and last element using Pop method\n",
      "['karwerwer', 'tejlhkgiyl', 'chddfhil', 'hvraj', 'rojbkhyvk']\n",
      "\n",
      "List2 after removing 1st and last element using pop method\n",
      "['tejlhkgiyl', 'chddfhil', 'hvraj']\n",
      "\n",
      "List3 before removing 1st and last element using Pop method\n",
      "['abcw', 'defervg', 'eddsff', 'eresfd', 'kcdr']\n",
      "\n",
      "List3 after removing 1st and last element using pop method\n",
      "['defervg', 'eddsff', 'eresfd']\n"
     ]
    }
   ],
   "source": [
    "list1=['hycgdhd', 'bhgjan', 'bkhggtnglr', 'kjbkher', 'sjllguj']\n",
    "print(list1)\n",
    "print(\"Length of list1 = \",len(list1))\n",
    "print(\"\\nMax of list1=\",max(list1))\n",
    "print(\"\\nMin of list1=\",min(list1))\n",
    "\n",
    "list2=['karwerwer', 'tejlhkgiyl', 'chddfhil', 'hvraj', 'rojbkhyvk']\n",
    "print(list2)\n",
    "print(\"\\nLength of list2 = \",len(list1))\n",
    "print(\"\\nMax of list2 = \",max(list1))\n",
    "print(\"\\nMin of list2 = \",min(list1))\n",
    "\n",
    "list3=['abcw','defervg','eddsff', 'eresfd', 'kcdr']\n",
    "print(list3)\n",
    "print(\"\\nLength of list3 = \",len(list1))\n",
    "print(\"\\nMax of list3 = \",max(list1))\n",
    "print(\"\\nMin of list3 = \",min(list1))\n",
    "\n",
    "\n",
    "if (list1 > list2) and (list1 > list3):\n",
    "    print(\"\\nlist1 is the biggest\",list1)\n",
    "    \n",
    "elif (list2>list1) and (list2>list3):\n",
    "    print(\"\\nlist2 is the biggest\",list2)\n",
    "    \n",
    "else:\n",
    "    print(\"\\nlist3 is the biggest\",list3)\n",
    "\n",
    "if (list1<list2) and (list1<list3):\n",
    "    print(\"\\nlist1 is the smallest\",list1)\n",
    "    \n",
    "elif (list2<list1) and (list2<list3):\n",
    "    print(\"\\nlist2 is the smallest\",list2)\n",
    "    \n",
    "else:\n",
    "    print(\"\\nlist3 is the smallest\",list3)\n",
    "\n",
    "print(\"\\nList1 before removing 1st and last element using Pop method\")\n",
    "print(list1)\n",
    "\n",
    "print(\"\\nList1 after removing 1st and last element using pop method\")\n",
    "list1.pop(0);list1.pop(-1)\n",
    "print(list1)\n",
    "\n",
    "print(\"\\nList2 before removing 1st and last element using Pop method\")\n",
    "print(list2)\n",
    "\n",
    "print(\"\\nList2 after removing 1st and last element using pop method\")\n",
    "list2.pop(0);list2.pop(-1)\n",
    "print(list2)\n",
    "\n",
    "print(\"\\nList3 before removing 1st and last element using Pop method\")\n",
    "print(list3)\n",
    "\n",
    "print(\"\\nList3 after removing 1st and last element using pop method\")\n",
    "list3.pop(0);list3.pop(-1)\n",
    "print (list3)\n"
   ]
  },
  {
   "cell_type": "markdown",
   "metadata": {},
   "source": [
    "# Create a list with 7 elements and perform following operations. Let the list be initialized with List1 any 5 city names;\n",
    "\n",
    "a) Append a new city name to the List\n",
    "\n",
    "b) Insert a city name at 4th index position\n",
    "\n",
    "c) Sort the list and print all elements\n",
    "\n",
    "d) Sort the elements of the list in descending order.\n",
    "\n",
    "e) delete last three elements using pop operation\n"
   ]
  },
  {
   "cell_type": "code",
   "execution_count": 12,
   "metadata": {},
   "outputs": [
    {
     "name": "stdout",
     "output_type": "stream",
     "text": [
      "[10, 20, 30, 40, 50, 60, 70]\n",
      "The Appended list is [10, 20, 30, 40, 50, 60, 70, 80]\n",
      "\n",
      "The list after inserting 100 at 4th position is [10, 20, 30, 100, 40, 50, 60, 70, 80]\n",
      "\n",
      "List after sorting is [10, 20, 30, 40, 50, 60, 70, 80, 100]\n",
      "\n",
      "The list in descending order [100, 80, 70, 60, 50, 40, 30, 20, 10]\n",
      "\n",
      "List after removing last 3 elements [100, 80, 70, 60, 50, 40]\n"
     ]
    }
   ],
   "source": [
    "List=[10,20,30,40,50,60,70]\n",
    "print(List)\n",
    "\n",
    "List.append(80)\n",
    "print(\"The Appended list is\",List)\n",
    "List.insert(3,100)\n",
    "\n",
    "print(\"\\nThe list after inserting 100 at 4th position is\",List)\n",
    "List.sort()\n",
    "\n",
    "print(\"\\nList after sorting is\",List)\n",
    "List.reverse()\n",
    "\n",
    "print(\"\\nThe list in descending order\",List)\n",
    "List.pop()\n",
    "List.pop()\n",
    "List.pop()\n",
    "\n",
    "print(\"\\nList after removing last 3 elements\",List)"
   ]
  },
  {
   "cell_type": "markdown",
   "metadata": {},
   "source": [
    "# Create 3 Lists (list1, list2, list3) with integer and perform following operations\n",
    "\n",
    "a) Create Maxlist by taking 2 maximum elements from each list.\n",
    "\n",
    "b) Find average value from all the elements of Maxlist.\n",
    "\n",
    "c) Create a MinlIst by taking 2 minimum elements from each list \n",
    "\n",
    "d) Find the average value from all the elements of Minlist"
   ]
  },
  {
   "cell_type": "code",
   "execution_count": 16,
   "metadata": {},
   "outputs": [
    {
     "name": "stdout",
     "output_type": "stream",
     "text": [
      "\n",
      "list1= [1, 12, 23, 32, 45]\n",
      "\n",
      "list2 =  [2, 21, 33, 35, 45, 56]\n",
      "\n",
      "list3 =  [12, 22, 32, 43, 66]\n",
      "\n",
      "Maxlist1= [32, 45]\n",
      "\n",
      "Minlist1= [1, 12]\n",
      "\n",
      "Maxlist2= [45, 56]\n",
      "\n",
      "Minlist2= [2, 21]\n",
      "\n",
      "Maxlist3= [43, 66]\n",
      "\n",
      "Minlist3= [12, 22]\n",
      "\n",
      "The Maxlist taking 2 maximum elements from each list is [32, 45, 45, 56, 43, 66]\n",
      "\n",
      "The Minlist taking 2 minimum elements from each list is [1, 12, 2, 21, 12, 22]\n",
      "Sum :  287\n",
      "\n",
      "Average of Maxlist is 47.833333333333336\n",
      "Sum :  70\n",
      "\n",
      "Average of Minlist is 11.666666666666666\n"
     ]
    }
   ],
   "source": [
    "list1=[1,32,12,23,45]\n",
    "list1.sort()\n",
    "print(\"\\nlist1=\",list1)\n",
    "\n",
    "list2=[45,21,2,35,56,33]\n",
    "list2.sort()\n",
    "print(\"\\nlist2 = \",list2)\n",
    "\n",
    "list3=[22,32,43,12,66]\n",
    "list3.sort()\n",
    "print(\"\\nlist3 = \",list3)\n",
    "\n",
    "\n",
    "Maxlist1=list1[-2:]\n",
    "print(\"\\nMaxlist1=\",Maxlist1)\n",
    "\n",
    "Minlist1=list1[:2]\n",
    "print(\"\\nMinlist1=\",Minlist1)\n",
    "\n",
    "Maxlist2=list2[-2:]\n",
    "print(\"\\nMaxlist2=\",Maxlist2)\n",
    "\n",
    "Minlist2=list2[:2]\n",
    "print(\"\\nMinlist2=\",Minlist2)\n",
    "\n",
    "Maxlist3=list3[-2:]\n",
    "print(\"\\nMaxlist3=\",Maxlist3)\n",
    "\n",
    "Minlist3=list3[:2]\n",
    "print(\"\\nMinlist3=\",Minlist3)\n",
    "\n",
    "Maxlist=Maxlist1+Maxlist2+Maxlist3\n",
    "print(\"\\nThe Maxlist taking 2 maximum elements from each list is\",Maxlist)\n",
    "\n",
    "Minlist=Minlist1+Minlist2+Minlist3\n",
    "print(\"\\nThe Minlist taking 2 minimum elements from each list is\",Minlist)\n",
    "\n",
    "sumMax=0\n",
    "for each in Maxlist:\n",
    "    sumMax+=each\n",
    "print(\"Sum : \",sumMax)\n",
    "\n",
    "SumMaxAvg=float(sumMax/6.0)\n",
    "print(\"\\nAverage of Maxlist is\",SumMaxAvg)\n",
    "\n",
    "sumMin=0\n",
    "for each in Minlist:\n",
    "    sumMin+=each\n",
    "print(\"Sum : \",sumMin)\n",
    "\n",
    "sumMinAvg=float(sumMin/6.0)\n",
    "print(\"\\nAverage of Minlist is\",sumMinAvg)"
   ]
  },
  {
   "cell_type": "markdown",
   "metadata": {},
   "source": [
    "# Create Tuple as specified below;\n",
    "\n",
    "a) Create a Tuple tup1 with days in a week & print the tuple elements\n",
    "\n",
    "b) Create a Tuple tup2  with months in a year and concatenate it with tup1\n",
    "\n",
    "c) Create 3 tuples( tup1,tup2,tup3) with numbers and determine which is greater.\n",
    "\n",
    "d) Try to delete an individual element in tup1 and try deleting complete Tuple -tup1 notice the error type you get.\n",
    "\n",
    "e) Insert new element in to tuple by typecasting it to List\n"
   ]
  },
  {
   "cell_type": "code",
   "execution_count": 19,
   "metadata": {},
   "outputs": [
    {
     "name": "stdout",
     "output_type": "stream",
     "text": [
      "Sunday\n",
      "Monday\n",
      "Tuesday\n",
      "Wednesday\n",
      "Thursday\n",
      "Friday\n",
      "Saturday\n",
      "\n",
      "tupConcat =  ('Sunday', 'Monday', 'Tuesday', 'Wednesday', 'Thursday', 'Friday', 'Saturday', 'January', 'February', 'March', 'April', 'May', 'June', 'July', 'August', 'September', 'October', 'November', 'December')\n",
      "\n",
      "Tup1 is the biggest\n",
      "\n",
      "Tup2 after appending a new item to this by typecasting it to List is [22, 44, 20, 13, 45, 9, 323]\n"
     ]
    }
   ],
   "source": [
    "tup1=('Sunday','Monday','Tuesday','Wednesday','Thursday','Friday','Saturday')\n",
    "for each in tup1:\n",
    "    print(each)\n",
    "    \n",
    "tup2=('January','February','March','April','May','June','July','August','September','October','November','December')\n",
    "tupConcat=tup1+tup2\n",
    "print(\"\\ntupConcat = \",tupConcat)\n",
    "\n",
    "tup1=(100,9,2,5,3)\n",
    "tup2=(22,44,20,13,45,9)\n",
    "tup3=(99,12,34,21,55)\n",
    "if(tup1 > tup2) and (tup1 > tup3):\n",
    "    print(\"\\nTup1 is the biggest\")\n",
    "    \n",
    "elif tup2>tup1 and tup2>tup3:\n",
    "    print(\"\\ntup2 is the biggest\")\n",
    "else:\n",
    "    print(\"\\ntup3 is the biggest of all\")\n",
    "\n",
    "del tup1\n",
    "#print(tup1)\n",
    "\n",
    "tup2=list(tup2)\n",
    "tup2.append(323)\n",
    "print(\"\\nTup2 after appending a new item to this by typecasting it to List is\",tup2)"
   ]
  },
  {
   "cell_type": "markdown",
   "metadata": {},
   "source": [
    "# Create two tuples tup1 & tup2 and apply all built in functions on tuples. ( Refer Tutorial for the Built in functions list)"
   ]
  },
  {
   "cell_type": "code",
   "execution_count": 24,
   "metadata": {},
   "outputs": [
    {
     "name": "stdout",
     "output_type": "stream",
     "text": [
      "\n",
      "tup1 is ('abc', 1, 3, '123ab', 'xyz')\n",
      "\n",
      "tup2 is ('wer', 33, '213erf', 'rte1', 12, 123)\n",
      "\n",
      "cmp(tup1,tup2) =  -1\n",
      "\n",
      "cmp(tup2,tup1) =  1\n",
      "\n",
      "Length of tup1 is :  5\n",
      "\n",
      "Length of tup2 is :  6\n",
      "\n",
      "Tuple elements are :  (123, 'xyz', 'zara', 'abc')\n"
     ]
    }
   ],
   "source": [
    "tup1=('abc',1,3,'123ab','xyz')\n",
    "tup2=('wer',33,'213erf','rte1',12,123)\n",
    "print(\"\\ntup1 is\",tup1)\n",
    "print(\"\\ntup2 is\",tup2)\n",
    "\n",
    "def cmp(a, b):\n",
    "    return (a > b) - (a < b)\n",
    "\n",
    "print(\"\\ncmp(tup1,tup2) = \",cmp(tup1,tup2))\n",
    "print(\"\\ncmp(tup2,tup1) = \",cmp(tup2,tup1))\n",
    "\n",
    "print(\"\\nLength of tup1 is : \",len(tup1))\n",
    "print(\"\\nLength of tup2 is : \",len(tup2))\n",
    "\n",
    "aList = (123, 'xyz', 'zara', 'abc')\n",
    "aTuple = tuple(aList)\n",
    "print(\"\\nTuple elements are : \",aTuple)"
   ]
  },
  {
   "cell_type": "markdown",
   "metadata": {},
   "source": [
    "# Create 3 dictionaries (dict1, dict2, dict3) with 3 elements each. Perform following operations\n",
    "\n",
    "a) Compare dictionaries to determine the biggest.\n",
    "\n",
    "b) Add new elements in to the dictionaries dict1, dict2\n",
    "\n",
    "c) print the length of dict1, dict2, dict3.\n",
    "\n",
    "d) Convert dict1, dict2, and dict3 dictionaries as string and concatenate all strings together."
   ]
  },
  {
   "cell_type": "code",
   "execution_count": 30,
   "metadata": {},
   "outputs": [
    {
     "name": "stdout",
     "output_type": "stream",
     "text": [
      "\n",
      "dict1 after adding new elements is {'Empid': 12, 'Ename': 'Vijay', 'Band': 'B1', 'Experience': 4}\n",
      "\n",
      "dict2 after adding new elements is {'Rollno': 11, 'Name': 'Arshiya', 'Class': 7, 'School': 'KV bhrukunda'}\n",
      "\n",
      "Length of dict1 is 4\n",
      "\n",
      "Length of dict2 is 4\n",
      "\n",
      "Length of dict3 is 3\n",
      "\n",
      "the concatenated dicts as strings all together is :  {'Empid': 12, 'Ename': 'Vijay', 'Band': 'B1', 'Experience': 4}{'Rollno': 11, 'Name': 'Arshiya', 'Class': 7, 'School': 'KV bhrukunda'}{'Kname': 'Ashu', 'Kage': 8, 'Bgroup': 'B+'}\n"
     ]
    }
   ],
   "source": [
    "dict1 = {'Empid':12,'Ename':'Vijay','Band':'B1'}\n",
    "dict2 = {'Rollno':11,'Name':'Arshiya','Class':7}\n",
    "dict3 = {'Kname':'Ashu','Kage':8,'Bgroup':'B+'}\n",
    "    \n",
    "dict1['Experience']=4\n",
    "dict2['School']='KV bhrukunda'\n",
    "print(\"\\ndict1 after adding new elements is\",dict1)\n",
    "print(\"\\ndict2 after adding new elements is\",dict2)\n",
    "print(\"\\nLength of dict1 is\",len(dict1))\n",
    "print(\"\\nLength of dict2 is\",len(dict2))\n",
    "print(\"\\nLength of dict3 is\",len(dict3))\n",
    "\n",
    "dict1Str=str(dict1)\n",
    "dict2Str=str(dict2)\n",
    "dict3Str=str(dict3)\n",
    "dictStr=dict1Str+dict2Str+dict3Str\n",
    "print(\"\\nthe concatenated dicts as strings all together is : \",dictStr)"
   ]
  },
  {
   "cell_type": "markdown",
   "metadata": {},
   "source": [
    "# Create 2 dictionaries as follows;\n",
    "dict1 ={'Name':'Ramakrishna','Age':25}\n",
    "dict2={'EmpId':1234,'Salary':5000}\n",
    "Perform following operations   \n",
    "\n",
    "a) Create single dictionary by merging dict1 and dict2\n",
    "\n",
    "b) Update the salary to 10%\n",
    "\n",
    "c) Update the age to 26\n",
    "\n",
    "d) Insert the new element with key \"grade\" and assign value as \"B1\"\n",
    "\n",
    "e) Extract and print all values and keys separately.\n",
    "\n",
    "f) delete the element with key 'Age' and print dictionary elements"
   ]
  },
  {
   "cell_type": "code",
   "execution_count": 31,
   "metadata": {},
   "outputs": [
    {
     "name": "stdout",
     "output_type": "stream",
     "text": [
      "\n",
      "After merging dict1and dict2, the single dict is {'Name': 'Ramakrishna', 'Age': 25, 'EmpId': 1234, 'Salary': 5000}\n",
      "\n",
      "the dict after updating salary to 10% is now {'Name': 'Ramakrishna', 'Age': 25, 'EmpId': 1234, 'Salary': '5500'}\n",
      "\n",
      "the dict after updating age to 26 is now {'Name': 'Ramakrishna', 'Age': 26, 'EmpId': 1234, 'Salary': '5500'}\n",
      "\n",
      "Now the dict is {'Name': 'Ramakrishna', 'Age': 26, 'EmpId': 1234, 'Salary': '5500', 'Grade': 'B1'}\n",
      "\n",
      "The keys of dict separately is dict_keys(['Name', 'Age', 'EmpId', 'Salary', 'Grade'])\n",
      "\n",
      "The values of dict separately is dict_values(['Ramakrishna', 26, 1234, '5500', 'B1'])\n",
      "\n",
      "Dict after deleting element with key Age is {'Name': 'Ramakrishna', 'EmpId': 1234, 'Salary': '5500', 'Grade': 'B1'}\n"
     ]
    }
   ],
   "source": [
    "dict1 ={'Name':'Ramakrishna','Age':25} \n",
    "dict2={'EmpId':1234,'Salary':5000}\n",
    "\n",
    "dict1.update(dict2)\n",
    "print(\"\\nAfter merging dict1and dict2, the single dict is\",dict1)\n",
    "dict1['Salary']='5500'\n",
    "\n",
    "print(\"\\nthe dict after updating salary to 10% is now\",dict1)\n",
    "dict1['Age']=26\n",
    "\n",
    "print(\"\\nthe dict after updating age to 26 is now\",dict1)\n",
    "dict1['Grade']='B1'\n",
    "\n",
    "print(\"\\nNow the dict is\",dict1)\n",
    "print(\"\\nThe keys of dict separately is\",dict1.keys())\n",
    "print(\"\\nThe values of dict separately is\",dict1.values())\n",
    "del dict1['Age']\n",
    "\n",
    "print(\"\\nDict after deleting element with key Age is\",dict1)"
   ]
  },
  {
   "cell_type": "markdown",
   "metadata": {},
   "source": [
    "# Using Time and Calendar module, Print current date and time. Print current month calendar."
   ]
  },
  {
   "cell_type": "code",
   "execution_count": 32,
   "metadata": {},
   "outputs": [
    {
     "name": "stdout",
     "output_type": "stream",
     "text": [
      "\n",
      "Local current time :  Mon Apr 20 05:56:54 2020\n",
      "\n",
      "Here is the calendar : \n",
      "    October 2017\n",
      "Mo Tu We Th Fr Sa Su\n",
      "                   1\n",
      " 2  3  4  5  6  7  8\n",
      " 9 10 11 12 13 14 15\n",
      "16 17 18 19 20 21 22\n",
      "23 24 25 26 27 28 29\n",
      "30 31\n",
      "\n"
     ]
    }
   ],
   "source": [
    "import time\n",
    "localtime = time.asctime(time.localtime(time.time()))\n",
    "print(\"\\nLocal current time : \", localtime)\n",
    "\n",
    "import calendar\n",
    "cal = calendar.month(2017,10)\n",
    "print(\"\\nHere is the calendar : \")\n",
    "print(cal)"
   ]
  },
  {
   "cell_type": "markdown",
   "metadata": {},
   "source": [
    "# Using time module perform following operations.\n",
    "\n",
    "a) Print current time for every 5 seconds up to 1 minute time interval.\n",
    "\n",
    "b) Write a program to find out how much CPU time is taken for the execution of above(32.a)  program."
   ]
  },
  {
   "cell_type": "code",
   "execution_count": 34,
   "metadata": {},
   "outputs": [
    {
     "name": "stdout",
     "output_type": "stream",
     "text": [
      "Local current time :  Mon Apr 20 05:58:32 2020\n",
      "Local current time :  Mon Apr 20 05:58:37 2020\n",
      "Local current time :  Mon Apr 20 05:58:42 2020\n",
      "Local current time :  Mon Apr 20 05:58:47 2020\n",
      "Local current time :  Mon Apr 20 05:58:52 2020\n",
      "Local current time :  Mon Apr 20 05:58:57 2020\n",
      "Local current time :  Mon Apr 20 05:59:02 2020\n",
      "Local current time :  Mon Apr 20 05:59:07 2020\n",
      "Local current time :  Mon Apr 20 05:59:12 2020\n"
     ]
    },
    {
     "ename": "KeyboardInterrupt",
     "evalue": "",
     "output_type": "error",
     "traceback": [
      "\u001b[1;31m---------------------------------------------------------------------------\u001b[0m",
      "\u001b[1;31mKeyboardInterrupt\u001b[0m                         Traceback (most recent call last)",
      "\u001b[1;32m<ipython-input-34-bb99c0c6735e>\u001b[0m in \u001b[0;36m<module>\u001b[1;34m\u001b[0m\n\u001b[0;32m      5\u001b[0m     \u001b[0mlocaltime\u001b[0m \u001b[1;33m=\u001b[0m \u001b[0mtime\u001b[0m\u001b[1;33m.\u001b[0m\u001b[0masctime\u001b[0m\u001b[1;33m(\u001b[0m\u001b[0mtime\u001b[0m\u001b[1;33m.\u001b[0m\u001b[0mlocaltime\u001b[0m\u001b[1;33m(\u001b[0m\u001b[0mtime\u001b[0m\u001b[1;33m.\u001b[0m\u001b[0mtime\u001b[0m\u001b[1;33m(\u001b[0m\u001b[1;33m)\u001b[0m\u001b[1;33m)\u001b[0m\u001b[1;33m)\u001b[0m\u001b[1;33m\u001b[0m\u001b[1;33m\u001b[0m\u001b[0m\n\u001b[0;32m      6\u001b[0m     \u001b[0mprint\u001b[0m\u001b[1;33m(\u001b[0m\u001b[1;34m\"Local current time : \"\u001b[0m\u001b[1;33m,\u001b[0m \u001b[0mlocaltime\u001b[0m\u001b[1;33m)\u001b[0m\u001b[1;33m\u001b[0m\u001b[1;33m\u001b[0m\u001b[0m\n\u001b[1;32m----> 7\u001b[1;33m     \u001b[0mtime\u001b[0m\u001b[1;33m.\u001b[0m\u001b[0msleep\u001b[0m\u001b[1;33m(\u001b[0m\u001b[1;36m5\u001b[0m\u001b[1;33m)\u001b[0m\u001b[1;33m\u001b[0m\u001b[1;33m\u001b[0m\u001b[0m\n\u001b[0m\u001b[0;32m      8\u001b[0m     \u001b[0mi\u001b[0m\u001b[1;33m=\u001b[0m\u001b[0mi\u001b[0m\u001b[1;33m-\u001b[0m\u001b[1;36m1\u001b[0m\u001b[1;33m\u001b[0m\u001b[1;33m\u001b[0m\u001b[0m\n",
      "\u001b[1;31mKeyboardInterrupt\u001b[0m: "
     ]
    }
   ],
   "source": [
    "import time\n",
    "\n",
    "i=12\n",
    "while i>0:\n",
    "    localtime = time.asctime(time.localtime(time.time()))\n",
    "    print(\"Local current time : \", localtime)\n",
    "    time.sleep(5)\n",
    "    i=i-1"
   ]
  },
  {
   "cell_type": "code",
   "execution_count": null,
   "metadata": {},
   "outputs": [],
   "source": []
  }
 ],
 "metadata": {
  "kernelspec": {
   "display_name": "Python 3",
   "language": "python",
   "name": "python3"
  },
  "language_info": {
   "codemirror_mode": {
    "name": "ipython",
    "version": 3
   },
   "file_extension": ".py",
   "mimetype": "text/x-python",
   "name": "python",
   "nbconvert_exporter": "python",
   "pygments_lexer": "ipython3",
   "version": "3.6.10"
  }
 },
 "nbformat": 4,
 "nbformat_minor": 4
}
