{
 "cells": [
  {
   "cell_type": "markdown",
   "metadata": {},
   "source": [
    "# Using calendar module perform following operations.\n",
    "\n",
    "a) Print the 2016 calendar with space between months as 10 characters.\n",
    "\n",
    "b) How many leap days between the years 1980 to 2025.\n",
    "\n",
    "c) Check given year is leap year or not. \n",
    "\n",
    "d) print calendar of any specified month of the year 2016."
   ]
  },
  {
   "cell_type": "code",
   "execution_count": 2,
   "metadata": {},
   "outputs": [
    {
     "name": "stdout",
     "output_type": "stream",
     "text": [
      "calendar for year 2016 with space between months as 10 character is :                                        2016\n",
      "\n",
      "      January                       February                       March\n",
      "Mo Tu We Th Fr Sa Su          Mo Tu We Th Fr Sa Su          Mo Tu We Th Fr Sa Su\n",
      "             1  2  3           1  2  3  4  5  6  7              1  2  3  4  5  6\n",
      " 4  5  6  7  8  9 10           8  9 10 11 12 13 14           7  8  9 10 11 12 13\n",
      "11 12 13 14 15 16 17          15 16 17 18 19 20 21          14 15 16 17 18 19 20\n",
      "18 19 20 21 22 23 24          22 23 24 25 26 27 28          21 22 23 24 25 26 27\n",
      "25 26 27 28 29 30 31          29                            28 29 30 31\n",
      "\n",
      "       April                          May                           June\n",
      "Mo Tu We Th Fr Sa Su          Mo Tu We Th Fr Sa Su          Mo Tu We Th Fr Sa Su\n",
      "             1  2  3                             1                 1  2  3  4  5\n",
      " 4  5  6  7  8  9 10           2  3  4  5  6  7  8           6  7  8  9 10 11 12\n",
      "11 12 13 14 15 16 17           9 10 11 12 13 14 15          13 14 15 16 17 18 19\n",
      "18 19 20 21 22 23 24          16 17 18 19 20 21 22          20 21 22 23 24 25 26\n",
      "25 26 27 28 29 30             23 24 25 26 27 28 29          27 28 29 30\n",
      "                              30 31\n",
      "\n",
      "        July                         August                      September\n",
      "Mo Tu We Th Fr Sa Su          Mo Tu We Th Fr Sa Su          Mo Tu We Th Fr Sa Su\n",
      "             1  2  3           1  2  3  4  5  6  7                    1  2  3  4\n",
      " 4  5  6  7  8  9 10           8  9 10 11 12 13 14           5  6  7  8  9 10 11\n",
      "11 12 13 14 15 16 17          15 16 17 18 19 20 21          12 13 14 15 16 17 18\n",
      "18 19 20 21 22 23 24          22 23 24 25 26 27 28          19 20 21 22 23 24 25\n",
      "25 26 27 28 29 30 31          29 30 31                      26 27 28 29 30\n",
      "\n",
      "      October                       November                      December\n",
      "Mo Tu We Th Fr Sa Su          Mo Tu We Th Fr Sa Su          Mo Tu We Th Fr Sa Su\n",
      "                1  2              1  2  3  4  5  6                    1  2  3  4\n",
      " 3  4  5  6  7  8  9           7  8  9 10 11 12 13           5  6  7  8  9 10 11\n",
      "10 11 12 13 14 15 16          14 15 16 17 18 19 20          12 13 14 15 16 17 18\n",
      "17 18 19 20 21 22 23          21 22 23 24 25 26 27          19 20 21 22 23 24 25\n",
      "24 25 26 27 28 29 30          28 29 30                      26 27 28 29 30 31\n",
      "31\n",
      "\n",
      "Leap days between the years 1980 to 2025 are 12 days\n",
      "enter the year to see if leap or not : 4\n",
      "year 4 is a leap year\n",
      "Enter the month no of 2016 year to print it : 5\n",
      "      May 2016\n",
      "Mo Tu We Th Fr Sa Su\n",
      "                   1\n",
      " 2  3  4  5  6  7  8\n",
      " 9 10 11 12 13 14 15\n",
      "16 17 18 19 20 21 22\n",
      "23 24 25 26 27 28 29\n",
      "30 31\n",
      "\n"
     ]
    }
   ],
   "source": [
    "import calendar\n",
    "\n",
    "print(\"calendar for year 2016 with space between months as 10 character is : \", calendar.calendar(2016,c=10))\n",
    "print(\"Leap days between the years 1980 to 2025 are\",calendar.leapdays(1980,2025),\"days\")\n",
    "\n",
    "enterYear = int(input(\"enter the year to see if leap or not : \"))\n",
    "if (calendar.isleap(enterYear)==True):\n",
    "    print(\"year\",enterYear,\"is a leap year\")\n",
    "else:\n",
    "    print(\"year\",enterYear,\"is not a leap year\")\n",
    "    \n",
    "enterMonth2016 = int(input(\"Enter the month no of 2016 year to print it : \"))\n",
    "print(calendar.month(2016,enterMonth2016,w=2,l=1))\n"
   ]
  },
  {
   "cell_type": "markdown",
   "metadata": {},
   "source": [
    "# Write a program to generate a Fibonacci series using a function called fib(n), \n",
    "\n",
    "a) Where ‘n’ is user specified argument specifies number of elements in the series"
   ]
  },
  {
   "cell_type": "code",
   "execution_count": 6,
   "metadata": {},
   "outputs": [
    {
     "name": "stdout",
     "output_type": "stream",
     "text": [
      "Enter the no of terms : 7\n",
      "0\n",
      "1\n",
      "1\n",
      "2\n",
      "3\n",
      "5\n",
      "8\n"
     ]
    }
   ],
   "source": [
    "def fib(nterms):\n",
    "    a=0\n",
    "    b=1\n",
    "    if nterms<=0:\n",
    "        print(\"please enter positive number\")\n",
    "    elif nterms==1:\n",
    "        print(\"Fibonacci series:\",a)\n",
    "    elif nterms==2:\n",
    "        print(a)\n",
    "        print (b)\n",
    "    else:\n",
    "        print (a)\n",
    "        print (b)\n",
    "        while(nterms>2):\n",
    "            numnext=a+b\n",
    "            print(numnext)\n",
    "            a=b\n",
    "            b=numnext\n",
    "            nterms=nterms-1\n",
    "            \n",
    "\n",
    "n=int(input(\"Enter the no of terms : \"))\n",
    "fib(n)"
   ]
  },
  {
   "cell_type": "markdown",
   "metadata": {},
   "source": [
    "# Write a program to search given element from the list. Use your own function to search an element from list. Note: Function should receive variable length arguments and search each of these arguments present in the list."
   ]
  },
  {
   "cell_type": "code",
   "execution_count": 11,
   "metadata": {},
   "outputs": [
    {
     "name": "stdout",
     "output_type": "stream",
     "text": [
      "enter element to check in the list : 45\n",
      "Please Enter the Total Number of Elements : 5\n",
      "Please enter the 0 Element of List1 : 34\n",
      "Please enter the 1 Element of List1 : 45\n",
      "Please enter the 2 Element of List1 : 67\n",
      "Please enter the 3 Element of List1 : 78\n",
      "Please enter the 4 Element of List1 : 3\n",
      "element 45 is present in the list\n"
     ]
    }
   ],
   "source": [
    "def find(n):\n",
    "    \n",
    "    a = []\n",
    "    number = int(input(\"Please Enter the Total Number of Elements : \"))\n",
    "\n",
    "    for i in range(number):\n",
    "        value = int(input(\"Please enter the %d Element of List1 : \" %i))\n",
    "        a.append(value)\n",
    "    \n",
    "    found=0\n",
    "    for each in a:\n",
    "        if n==each:\n",
    "            print(\"element\",n,\"is present in the list\")\n",
    "            found=1\n",
    "            break\n",
    "    if found==0:\n",
    "        print(\"element\",n,\"is not presnt in the list\")\n",
    "        \n",
    "number = int(input(\"enter element to check in the list : \"))\n",
    "find(number)"
   ]
  },
  {
   "cell_type": "markdown",
   "metadata": {},
   "source": [
    "# Write a program with lambda function to perform following.\n",
    "\n",
    "a) Perform all the operations of basic calculator (Add, Sub, Multiply, Divide, Modulus, Floor division)"
   ]
  },
  {
   "cell_type": "code",
   "execution_count": 16,
   "metadata": {},
   "outputs": [
    {
     "name": "stdout",
     "output_type": "stream",
     "text": [
      "Addition : 30\n",
      "substraction : -10\n",
      "Multiplication : 200\n",
      "Division : 0.5\n",
      "Modulus : 10\n",
      "Floor Division : 0\n"
     ]
    }
   ],
   "source": [
    "add = (lambda a,b: a+b)\n",
    "print(\"Addition : {}\".format(add(10, 20)))\n",
    "\n",
    "sub = (lambda a,b: a-b)\n",
    "print(\"substraction : {}\".format(sub(10, 20)))\n",
    "\n",
    "mul = (lambda a,b: a*b)\n",
    "print(\"Multiplication : {}\".format(mul(10, 20)))\n",
    "\n",
    "div = (lambda a,b: a/b)\n",
    "print(\"Division : {}\".format(div(10, 20)))\n",
    "\n",
    "mod = (lambda a,b: a%b)\n",
    "print(\"Modulus : {}\".format(mod(10, 20)))\n",
    "\n",
    "floor = (lambda a,b: a//b)\n",
    "print(\"Floor Division : {}\".format(floor(10, 20)))"
   ]
  },
  {
   "cell_type": "markdown",
   "metadata": {},
   "source": [
    "# Write a program to check given string is Palindrome or not. (Use function Concepts and Required keyword, Default parameter concepts) i.e Reverse the given string and check whether it is same as original string, if so then it is palindrome. Example: String \"malayalam\" when reversed will be \"malayalam\" hence palindrome."
   ]
  },
  {
   "cell_type": "code",
   "execution_count": 17,
   "metadata": {},
   "outputs": [
    {
     "name": "stdout",
     "output_type": "stream",
     "text": [
      "String 'malayalam' is a palindrom\n"
     ]
    }
   ],
   "source": [
    "def palindrom(x):\n",
    "    if x == x[::-1]:\n",
    "        print(\"String '{}' is a palindrom\".format(x))\n",
    "    else:\n",
    "        print(\"String '{}' is not a palindrom\".format(x))\n",
    "        \n",
    "palindrom('malayalam')"
   ]
  },
  {
   "cell_type": "markdown",
   "metadata": {},
   "source": [
    "# Write a function to find the biggest of 4 numbers.\n",
    "\n",
    "a) All numbers are passed as arguments separately (Required argument)\n",
    "\n",
    "b) use default values for arguments (Default arguments)"
   ]
  },
  {
   "cell_type": "code",
   "execution_count": 27,
   "metadata": {},
   "outputs": [
    {
     "name": "stdout",
     "output_type": "stream",
     "text": [
      "121 is the biggest\n",
      "43 is the biggest\n"
     ]
    }
   ],
   "source": [
    "def BiggestRequiredArg(a,b,c,d):\n",
    "    \n",
    "    if(a > b) and (a > c) and (a > d):\n",
    "        print (\"{} is the biggest\".format(a))\n",
    "    \n",
    "    elif(b > a) and (b > c) and (b > d):\n",
    "        print(\"{} is the biggest\".format(b))\n",
    "    \n",
    "    elif(c > a) and (c > b) and (c > d):\n",
    "        print(\"{} is the biggest\".format(c))\n",
    "    \n",
    "    else:\n",
    "        print(\"{} is the biggest\".format(d))\n",
    "    \n",
    "    return\n",
    "\n",
    "BiggestRequiredArg(9,39,47,121)\n",
    "\n",
    "\n",
    "\n",
    "def BiggestRequiredArg(a,b,c,d=8):\n",
    "    \n",
    "    if(a > b) and (a > c) and (a > d):\n",
    "        print (\"{} is the biggest\".format(a))\n",
    "    \n",
    "    elif(b > a) and (b > c) and (b > d):\n",
    "        print(\"{} is the biggest\".format(b))\n",
    "    \n",
    "    elif(c > a) and (c > b) and (c > d):\n",
    "        print(\"{} is the biggest\".format(c))\n",
    "    \n",
    "    else:\n",
    "        print(\"{} is the biggest\".format(d))\n",
    "    \n",
    "    return\n",
    "BiggestRequiredArg(a=27,c=43,b=14)"
   ]
  },
  {
   "cell_type": "markdown",
   "metadata": {},
   "source": [
    "# Write function to extend the tuple with elements of list. Pass list and Tuple as parameter to the function."
   ]
  },
  {
   "cell_type": "code",
   "execution_count": 33,
   "metadata": {},
   "outputs": [
    {
     "name": "stdout",
     "output_type": "stream",
     "text": [
      "Original Tuple :  (1, 2, 3, 4)\n",
      "\n",
      "Original List :  [11, 22, 33, 44]\n",
      "\n",
      "After extending : \n",
      "(1, 2, 3, 4, 11, 22, 33, 44)\n"
     ]
    }
   ],
   "source": [
    "def Extnd(tup1,list1):\n",
    "    tup1=list(tup1)\n",
    "    result=tup1+list1\n",
    "    result = tuple(result)\n",
    "    print(result)\n",
    "    \n",
    "tupp=(1,2,3,4)\n",
    "listt=[11,22,33,44]\n",
    "\n",
    "print(\"Original Tuple : \", tupp)\n",
    "print(\"\\nOriginal List : \", listt)\n",
    "\n",
    "print(\"\\nAfter extending : \")\n",
    "Extnd(tupp,listt)"
   ]
  },
  {
   "cell_type": "markdown",
   "metadata": {},
   "source": [
    "# Create a Calculator with the following functions.\n",
    "\n",
    "a) Addition/subtraction/multiplication and division of two numbers (Note: Create separate function for each operation)\n",
    "\n",
    "b) Find square root of a given number. (Use keyword arguments in your function)\n",
    "\n",
    "c) Create a list of sub strings from a given string, such that sub strings are created with given character. i.e. String = \"Pack: My: Box: With: Good: Food\"\n",
    "Create sub strings with the delimiter character \":\" such that the following sub strings are created. substrlist=[Pack, My, Box, With, Good, Food] Note : Function should take at least 2 parameters ( Main string and delimiter character) return value from function will be list of substring."
   ]
  },
  {
   "cell_type": "code",
   "execution_count": 35,
   "metadata": {},
   "outputs": [
    {
     "name": "stdout",
     "output_type": "stream",
     "text": [
      "sum is :  8\n",
      "\n",
      "Subtraction is :  6\n",
      "\n",
      "multiplication is : 15\n",
      "\n",
      "Division is :  2.0\n",
      "\n",
      "SQrt is :  3.0\n",
      "\n",
      "SQrt is :  9.0\n",
      "\n",
      "Original String is :  Pack:My:Box:With:Good:Food\n",
      "Substring from string is :  ['Pack', 'My', 'Box', 'With', 'Good', 'Food']\n"
     ]
    }
   ],
   "source": [
    "import math\n",
    "\n",
    "def Addition(a,b):\n",
    "    sum=a+b\n",
    "    print(\"sum is : \",sum)\n",
    "    \n",
    "def Subtraction(a,b):\n",
    "    sub=a-b\n",
    "    print(\"\\nSubtraction is : \",sub)\n",
    "    \n",
    "def Multiply(a,b):\n",
    "    mul=a*b\n",
    "    print(\"\\nmultiplication is :\",mul)\n",
    "    \n",
    "def Division(a,b):\n",
    "    div=a/b\n",
    "    print(\"\\nDivision is : \",div)\n",
    "    \n",
    "def Sqrt(num):\n",
    "    print(\"\\nSQrt is : \",math.sqrt(num))\n",
    "    \n",
    "    \n",
    "Addition(3,5)\n",
    "Subtraction(9,3)\n",
    "Multiply(3,5)\n",
    "Division(4,2)\n",
    "Sqrt(9)\n",
    "Sqrt(num=81)\n",
    "\n",
    "def subStr(str1,delcharctr):\n",
    "    subStr= str1.split(delcharctr,6)\n",
    "    print(\"\\nOriginal String is : \",str1)\n",
    "    return subStr\n",
    "\n",
    "str1=\"Pack:My:Box:With:Good:Food\"\n",
    "delcharctr=':'\n",
    "subStr= subStr(str1,delcharctr)\n",
    "print(\"Substring from string is : \",subStr)\n"
   ]
  },
  {
   "cell_type": "markdown",
   "metadata": {},
   "source": [
    "# Write a program to perform following file operations\n",
    "\n",
    "a) Open the file in read mode and read all its contents on to STDOUT.\n",
    "\n",
    "b) Open the file in write mode and enter 5 new lines of strings in to the new file.\n",
    "\n",
    "c) Open file in Append mode and add 5 lines of text into it."
   ]
  },
  {
   "cell_type": "code",
   "execution_count": 40,
   "metadata": {},
   "outputs": [
    {
     "name": "stdout",
     "output_type": "stream",
     "text": [
      "Read String is :  ['so we have come to the end now\\n', 'i dont think this is\\n', 'yes very true\\n', ' still to go\\n', ' this is final now']\n"
     ]
    }
   ],
   "source": [
    "fo=open(\"firstFile.txt\",\"w+\")\n",
    "fo.writelines(\"so we have come to the end now\\ni dont think this is\\nyes very true\\n still to go\\n this is final now\")\n",
    "fo.close()\n",
    "\n",
    "fo = open(\"firstFile.txt\",\"r\")\n",
    "print(\"Read String is : \",fo.readlines())\n",
    "fo.close()\n",
    "\n",
    "fo=open(\"firstFile.txt\",\"a\")\n",
    "fo.writelines(\"finally\\nso we have come to the end now\\n again and again\\nsorry to keep you waiting\\nFINAL ONE!!!!\")\n",
    "fo.close()"
   ]
  },
  {
   "cell_type": "markdown",
   "metadata": {},
   "source": [
    "# Write a program to open the existing file in read mode and perform following tasks,\n",
    "\n",
    "a) Rad 10 character at a time and then print its current position of file object. Repeat this operation till the EOF.\n",
    "\n",
    "b) Reset the file pointer after reading 100 Character from file (Use Seek function to reset)\n",
    "\n",
    "c) Open the file in read mode and start printing the contents from 5th line onwards."
   ]
  },
  {
   "cell_type": "code",
   "execution_count": 45,
   "metadata": {},
   "outputs": [
    {
     "name": "stdout",
     "output_type": "stream",
     "text": [
      "so we have\n",
      "position= 10\n",
      " come to t\n",
      "position= 20\n",
      "he end now\n",
      "position= 30\n",
      "\n",
      "i dont th\n",
      "position= 40\n",
      "ink this i\n",
      "position= 50\n",
      "s\n",
      "yes very\n",
      "position= 60\n",
      " true\n",
      " sti\n",
      "position= 70\n",
      "ll to go\n",
      " \n",
      "position= 80\n",
      "this is fi\n",
      "position= 90\n",
      "nal nowfin\n",
      "position= 100\n",
      "ally\n",
      "so we\n",
      "position= 110\n",
      " have come\n",
      "position= 120\n",
      " to the en\n",
      "position= 130\n",
      "d now\n",
      " aga\n",
      "position= 140\n",
      "in and aga\n",
      "position= 150\n",
      "in\n",
      "sorry t\n",
      "position= 160\n",
      "o keep you\n",
      "position= 170\n",
      " waiting\n",
      "F\n",
      "position= 180\n",
      "INAL ONE!!\n",
      "position= 190\n",
      "!!\n",
      "position= 200\n"
     ]
    }
   ],
   "source": [
    "fo=open(\"firstFile.txt\",\"r\")\n",
    "position=0\n",
    "while(True):\n",
    "    a=fo.read(10)\n",
    "    if not a:\n",
    "        break\n",
    "    else:\n",
    "        print(a)\n",
    "        position+=10\n",
    "        print(\"position=\",position)\n"
   ]
  },
  {
   "cell_type": "code",
   "execution_count": 46,
   "metadata": {},
   "outputs": [
    {
     "name": "stdout",
     "output_type": "stream",
     "text": [
      "so we have\n",
      "position= 10\n",
      " come to t\n",
      "position= 20\n",
      "he end now\n",
      "position= 30\n",
      "\n",
      "i dont th\n",
      "position= 40\n",
      "ink this i\n",
      "position= 50\n",
      "s\n",
      "yes very\n",
      "position= 60\n",
      " true\n",
      " sti\n",
      "position= 70\n",
      "ll to go\n",
      " \n",
      "position= 80\n",
      "this is fi\n",
      "position= 90\n",
      "nal nowfin\n",
      "position= 100\n",
      "so we have\n"
     ]
    }
   ],
   "source": [
    "fo=open(\"firstFile.txt\",\"r\")\n",
    "position=0\n",
    "while(position<100):\n",
    "    a=fo.read(10)\n",
    "    if not a:\n",
    "        break\n",
    "    else:\n",
    "        print(a)\n",
    "        position+=10\n",
    "        print(\"position=\",position)       \n",
    "fo.seek(0,0)\n",
    "print(fo.read(10))"
   ]
  },
  {
   "cell_type": "code",
   "execution_count": 47,
   "metadata": {},
   "outputs": [
    {
     "name": "stdout",
     "output_type": "stream",
     "text": [
      "line= so we have come to the end now\n",
      "\n",
      "line=  again and again\n",
      "\n",
      "line= sorry to keep you waiting\n",
      "\n",
      "line= FINAL ONE!!!!\n"
     ]
    }
   ],
   "source": [
    "fo=open(\"firstFile.txt\",\"r\")\n",
    "for i in range(5):\n",
    "    fo.readline()\n",
    "for line in fo:\n",
    "    print(\"line=\",line)\n",
    "fo.close()"
   ]
  },
  {
   "cell_type": "markdown",
   "metadata": {},
   "source": [
    "# In a given directory search all text files for the pattern \"Treasure\". \n",
    "\n",
    "a) Find how many text files has the pattern.\n",
    "\n",
    "b) Count how many times pattern repeats in each file Note: Create at least 4 text files in a directory and keep the pattern in at least 2 files. Repeat the pattern in the file many times."
   ]
  },
  {
   "cell_type": "code",
   "execution_count": 48,
   "metadata": {},
   "outputs": [],
   "source": [
    "f = open(\"file1.txt\", \"a\")\n",
    "f.write(\"Now the file has more content!, i will place a Treasure here to you to find\")\n",
    "f.close()\n",
    "\n",
    "f = open(\"file2.txt\", \"a\")\n",
    "f.write(\"Now the file has more content!\")\n",
    "f.close()\n",
    "\n",
    "f = open(\"file3.txt\", \"a\")\n",
    "f.write(\"Now the file has more content!, i will place a Treasure here to you to find. NOW HURRY!!!\")\n",
    "f.close()\n",
    "\n",
    "f = open(\"file4.txt\", \"a\")\n",
    "f.write(\"Now the file has more content!, myself amit\")\n",
    "f.close()"
   ]
  },
  {
   "cell_type": "code",
   "execution_count": 53,
   "metadata": {},
   "outputs": [
    {
     "name": "stdout",
     "output_type": "stream",
     "text": [
      "\n",
      "File name: file1.txt \n",
      "Count of letter Treasure in this file: 1\n",
      "\n",
      "File name: file2.txt \n",
      "Count of letter Treasure in this file: 0\n",
      "\n",
      "File name: file3.txt \n",
      "Count of letter Treasure in this file: 1\n",
      "\n",
      "File name: file4.txt \n",
      "Count of letter Treasure in this file: 0\n",
      "\n",
      "File name: firstFile.txt \n",
      "Count of letter Treasure in this file: 0\n",
      "\n",
      "Total counts of letter Treasure in all the files: 2\n"
     ]
    }
   ],
   "source": [
    "import glob\n",
    "\n",
    "totalCount = 0\n",
    "for eachfile in glob.glob(\"*.txt\"):\n",
    "    myfile = open(eachfile, \"r\")\n",
    "    list1 = myfile.read().split()\n",
    "    if \"Treasure\" in list1:\n",
    "        print(\"\\nFile name:\",eachfile,\"\\nCount of letter Treasure in this file:\", list1.count(\"Treasure\"))\n",
    "        totalCount += list1.count(\"Treasure\")\n",
    "    else:\n",
    "        print(\"\\nFile name:\",eachfile,\"\\nCount of letter Treasure in this file:\", 0)\n",
    "    myfile.close()        \n",
    "print(\"\\nTotal counts of letter Treasure in all the files:\", totalCount)\n"
   ]
  },
  {
   "cell_type": "markdown",
   "metadata": {},
   "source": [
    "# Open existing text file and reverse its contents. i.e\n",
    "\n",
    "a) print the last line as first line and first line as last line (Reverse the lines of the file)\n",
    "\n",
    "b) print characters of file from last character of file till the first character of the file.(Reverse entire contents of  file)"
   ]
  },
  {
   "cell_type": "code",
   "execution_count": 61,
   "metadata": {},
   "outputs": [
    {
     "name": "stdout",
     "output_type": "stream",
     "text": [
      "Reversing each line order : \n",
      "\n",
      "FINAL ONE!!!!\n",
      "sorry to keep you waiting\n",
      " again and again\n",
      "so we have come to the end now\n",
      " this is final nowfinally\n",
      " still to go\n",
      "yes very true\n",
      "i dont think this is\n",
      "so we have come to the end now\n",
      "\n",
      "\n",
      "\n",
      "Ater reversing each character :\n",
      "\n",
      "!!!!ENO LANIF\n",
      "gnitiaw uoy peek ot yrros\n",
      "niaga dna niaga \n",
      "won dne eht ot emoc evah ew os\n",
      "yllanifwon lanif si siht \n",
      "og ot llits \n",
      "eurt yrev sey\n",
      "si siht kniht tnod i\n",
      "won dne eht ot emoc evah ew os\n"
     ]
    }
   ],
   "source": [
    "strlist=list()\n",
    "print(\"Reversing each line order : \\n\")\n",
    "for lines in reversed(open(\"firstFile.txt\").readlines()):\n",
    "    print(lines.rstrip())\n",
    "    strlist.append(lines.rstrip())\n",
    "    \n",
    "    \n",
    "print(\"\\n\\n\\nAter reversing each character :\\n\")\n",
    "for string in strlist:\n",
    "    print(string[::-1])"
   ]
  },
  {
   "cell_type": "markdown",
   "metadata": {},
   "source": [
    "# Open the file is read & write mode and apply following functions\n",
    "\n",
    "a) All 13 functions mentioned in Tutorial File object table."
   ]
  },
  {
   "cell_type": "code",
   "execution_count": 68,
   "metadata": {},
   "outputs": [
    {
     "name": "stdout",
     "output_type": "stream",
     "text": [
      "Name of the file:  firstFile.txt\n",
      "\n",
      "Name of the file:  file1.txt\n",
      "\n",
      "Name of the file:  file2.txt\n",
      "File Descriptor:  4\n",
      "\n",
      "Name of the file: file3.txt\n",
      "Return value :  False\n",
      "\n",
      "Name of the file:  file4.txt\n",
      "Line No 0 - Now the file has more content!, i will place a Treasure here to you to find\n",
      "\n",
      "Name of the file:  file2.txt\n",
      "Read Line: Now the file has more content!\n",
      "\n",
      "Name of the file:  file3.txt\n",
      "Read Line: Now the file has more content!, i will place a Treasure here to you to find. NOW HURRY!!!\n",
      "Read Line: \n",
      "\n",
      "Name of the file:  file4.txt\n",
      "\n",
      "Read Line: ['Now the file has more content!, myself amit']\n",
      "\n",
      "Read Line: []\n",
      "\n",
      "Name of the file:  file1.txt\n",
      "\n",
      "Read Line: Now the file has more content!, i will place a Treasure here to you to find\n",
      "\n",
      "Read Line: Now the file has more content!, i will place a Treasure here to you to find\n",
      "\n",
      "Name of the file:  file2.txt\n",
      "\n",
      "Read Line: Now the file has more content!\n",
      "\n",
      "Current Position: 30\n",
      "\n",
      "Name of the file:  file3.txt\n",
      "\n",
      "Read Line: Now the file has more content!, i will place a Treasure here to you to find. NOW HURRY!!!\n",
      "\n",
      "Read Line: \n",
      "\n",
      "Name of the file:  file2.txt\n",
      "This is 6th line\n",
      "\n",
      "Name of the file:  file1.txt\n",
      "This is 6th line\n"
     ]
    }
   ],
   "source": [
    "fo = open(\"firstFile.txt\", \"r+\")\n",
    "print(\"Name of the file: \", fo.name)\n",
    "fo.close()\n",
    "\n",
    "\n",
    "\n",
    "fo = open(\"file1.txt\", \"r\")\n",
    "print(\"\\nName of the file: \", fo.name)\n",
    "fo.flush()\n",
    "fo.close()\n",
    "\n",
    "fo = open(\"file2.txt\", \"r+\")\n",
    "print(\"\\nName of the file: \", fo.name)\n",
    "fid = fo.fileno()\n",
    "print(\"File Descriptor: \", fid)\n",
    "fo.close()\n",
    "\n",
    "fo = open(\"file3.txt\", \"r+\")\n",
    "print(\"\\nName of the file:\", fo.name)\n",
    "ret = fo.isatty()\n",
    "print(\"Return value : \", ret)\n",
    "fo.close()\n",
    "\n",
    "fo = open(\"file4.txt\", \"r+\")\n",
    "print(\"\\nName of the file: \", fo.name)\n",
    "for index in range(1):\n",
    "    #line = fo.next()\n",
    "    print(\"Line No %d - %s\" % (index, line))\n",
    "fo.close()\n",
    "\n",
    "fo = open(\"file2.txt\", \"r+\")\n",
    "print(\"\\nName of the file: \", fo.name)\n",
    "line = fo.read(100)\n",
    "print(\"Read Line: %s\" % (line))\n",
    "fo.close()\n",
    "\n",
    "fo = open(\"file3.txt\", \"r+\")\n",
    "print(\"\\nName of the file: \", fo.name)\n",
    "line = fo.readline()\n",
    "print(\"Read Line: %s\" % (line))\n",
    "line = fo.readline(5)\n",
    "print(\"Read Line: %s\" % (line))\n",
    "fo.close()\n",
    "\n",
    "fo = open(\"file4.txt\", \"r+\")\n",
    "print(\"\\nName of the file: \", fo.name)\n",
    "line = fo.readlines()\n",
    "print(\"\\nRead Line: %s\" % (line))\n",
    "line = fo.readlines(2)\n",
    "print(\"\\nRead Line: %s\" % (line))\n",
    "fo.close()\n",
    "\n",
    "fo = open(\"file1.txt\", \"r+\")\n",
    "print(\"\\nName of the file: \", fo.name)\n",
    "line = fo.readline()\n",
    "print(\"\\nRead Line: %s\" % (line))\n",
    "fo.seek(0, 0)\n",
    "line = fo.readline()\n",
    "print(\"\\nRead Line: %s\" % (line))\n",
    "fo.close()\n",
    "\n",
    "fo = open(\"file2.txt\", \"r+\")\n",
    "print(\"\\nName of the file: \", fo.name)\n",
    "line = fo.readline()\n",
    "print(\"\\nRead Line: %s\" % (line))\n",
    "# Get the current position of the file.\n",
    "pos = fo.tell()\n",
    "print(\"\\nCurrent Position: %d\" % (pos))\n",
    "fo.close()\n",
    "\n",
    "\n",
    "fo = open(\"file3.txt\", \"r+\")\n",
    "print(\"\\nName of the file: \", fo.name)\n",
    "line = fo.readline()\n",
    "print(\"\\nRead Line: %s\" % (line))\n",
    "# Now truncate remaining file.\n",
    "fo.truncate()\n",
    "line = fo.readline()\n",
    "print(\"\\nRead Line: %s\" % (line))\n",
    "fo.close()\n",
    "\n",
    "fo = open(\"file2.txt\", \"w+\")\n",
    "print(\"\\nName of the file: \", fo.name)\n",
    "str = \"This is 6th line\"\n",
    "# Write a line at the end of the file.\n",
    "#fo.seek(0, 1)\n",
    "line = fo.write( str )\n",
    "# Now reading file from beginning.\n",
    "fo.seek(0,0)\n",
    "lines=fo.read()\n",
    "print(lines)\n",
    "fo.close()\n",
    "\n",
    "fo = open(\"file1.txt\", \"w+\")\n",
    "print(\"\\nName of the file: \", fo.name)\n",
    "str = \"This is 6th line\"\n",
    "# Write a line at the end of the file.\n",
    "line = fo.writelines( str )\n",
    "fo.seek(0,0)\n",
    "lines=fo.read()\n",
    "print(lines)\n",
    "fo.close()"
   ]
  },
  {
   "cell_type": "markdown",
   "metadata": {},
   "source": [
    "# Write a program to handle the following exceptions in you program.\n",
    "\n",
    "a) KeyboardInterrupt\n",
    "\n",
    "b) NameError \n",
    "\n",
    "c) ArithmeticError Note: Make use of try, except, else: block statements."
   ]
  },
  {
   "cell_type": "code",
   "execution_count": 71,
   "metadata": {},
   "outputs": [
    {
     "name": "stdout",
     "output_type": "stream",
     "text": [
      "1\n",
      "2\n",
      "3\n",
      "4\n",
      "\n",
      "Enter your name:amitabh\n",
      "Good Morning amitabh\n",
      "\n",
      "0/0, ArithmeticError\n"
     ]
    }
   ],
   "source": [
    "import time\n",
    "\n",
    "i=1\n",
    "try:\n",
    "    while(i<5):\n",
    "        time.sleep(1)\n",
    "        print(i)\n",
    "        i+=1\n",
    "except KeyboardInterrupt:\n",
    "    print(\"KeyboardInterrupt\")\n",
    "    \n",
    "    \n",
    "try:\n",
    "    name = input(\"\\nEnter your name:\")\n",
    "    print(\"Good Morning \"+ name)\n",
    "except NameError:#Enter your name in Quotes else NameError msg will appear\n",
    "    print(\"NameError\")\n",
    "\n",
    "\n",
    "\n",
    "try:\n",
    "    num= 0/0\n",
    "except ArithmeticError:\n",
    "    print(\"\\n0/0, ArithmeticError\")"
   ]
  },
  {
   "cell_type": "markdown",
   "metadata": {},
   "source": [
    "# Write a program for converting weight from Pound to Kilo grams.\n",
    "\n",
    "a) Use assertion for the negative weight.\n",
    "\n",
    "b) Use assertion to weight more than 100 KG"
   ]
  },
  {
   "cell_type": "code",
   "execution_count": 78,
   "metadata": {},
   "outputs": [
    {
     "ename": "SyntaxError",
     "evalue": "invalid syntax (<ipython-input-78-0dc71c179655>, line 5)",
     "output_type": "error",
     "traceback": [
      "\u001b[1;36m  File \u001b[1;32m\"<ipython-input-78-0dc71c179655>\"\u001b[1;36m, line \u001b[1;32m5\u001b[0m\n\u001b[1;33m    except AssertionError, e:\u001b[0m\n\u001b[1;37m                         ^\u001b[0m\n\u001b[1;31mSyntaxError\u001b[0m\u001b[1;31m:\u001b[0m invalid syntax\n"
     ]
    }
   ],
   "source": [
    "def PoundToKg(pound):\n",
    "    try:\n",
    "        assert (pound>=0), \"Negative weight not allowed\"\n",
    "        return pound*0.453592\n",
    "    except AssertionError, e:\n",
    "        return e\n",
    "    \n",
    "print(PoundToKg(1233))\n",
    "print(PoundToKg(-123))\n",
    "\n",
    "\n",
    "def PoundToKg(pound):\n",
    "    try:\n",
    "        assert (pound>=100), \"Weight should be more than or equal to 100\"\n",
    "        return pound*0.453592\n",
    "    except AssertionError, e:\n",
    "        return e\n",
    "    \n",
    "print(PoundToKg(98))\n",
    "print(PoundToKg(231))\n"
   ]
  },
  {
   "cell_type": "markdown",
   "metadata": {},
   "source": [
    "# Write a program to handle following exceptions using Try block.\n",
    "\n",
    "a) IO Error while you try writing contents into the file that is opened in read mode only.\n",
    "\n",
    "b) ValueError"
   ]
  },
  {
   "cell_type": "code",
   "execution_count": 83,
   "metadata": {},
   "outputs": [
    {
     "name": "stdout",
     "output_type": "stream",
     "text": [
      "This is 6th line\n",
      "\n",
      "Writing mode is not allowed\n",
      "\n",
      "Enter value:ami\n",
      "ValueError\n"
     ]
    }
   ],
   "source": [
    "try:\n",
    "    myfile =open(\"file2.txt\",\"r\")\n",
    "    print(myfile.read())\n",
    "    myfile.write(\"Hello\")\n",
    "except IOError:\n",
    "    print(\"\\nWriting mode is not allowed\")\n",
    "\n",
    "    \n",
    "try:\n",
    "    num = int(input(\"\\nEnter value:\"))\n",
    "except ValueError:\n",
    "    print(\"ValueError\")"
   ]
  },
  {
   "cell_type": "markdown",
   "metadata": {},
   "source": [
    "# Try implementing atleast any 5 exceptions in you program."
   ]
  },
  {
   "cell_type": "code",
   "execution_count": 90,
   "metadata": {},
   "outputs": [
    {
     "name": "stdout",
     "output_type": "stream",
     "text": [
      "Exception\n",
      "\n",
      "Arithmetic error exception\n",
      "\n",
      "system exit exception\n",
      "\n",
      "Overflow error exception\n",
      "\n",
      "ValueError\n",
      "\n",
      "Zero Division exception\n",
      "\n",
      "Attribute error\n",
      "\n",
      "Import error exception\n",
      "\n",
      "Lookup error\n",
      "\n",
      "IndexOutofbound\n",
      "amitabh\n",
      "amm\n",
      "\n",
      "Key Error\n",
      "UnboundLocalError!\n",
      "\n",
      "IOError!\n",
      "\n",
      "Syntax Error !\n",
      "\n",
      "Type Error\n",
      "\n",
      "Value Error\n",
      "\n",
      "Runtime Error occured !\n"
     ]
    }
   ],
   "source": [
    "import math\n",
    "import sys\n",
    "import time\n",
    "\n",
    "\n",
    "try:\n",
    "    num=a/2\n",
    "except Exception:\n",
    "    print(\"Exception\")\n",
    "\n",
    "#Standard error\n",
    "try:\n",
    "    f0=open(\"file1.txt\",\"r\")\n",
    "except StandardError:\n",
    "    print(\"\\nStandard error:No file exists\")\n",
    "\n",
    "#Arithmetic error\n",
    "try:\n",
    "    div=2/0\n",
    "except ArithmeticError:\n",
    "    print(\"\\nArithmetic error exception\")\n",
    "\n",
    "#Systemexit\n",
    "try:\n",
    "    sys.exit()\n",
    "except SystemExit:\n",
    "    print(\"\\nsystem exit exception\")\n",
    "\n",
    "\n",
    "#Overflow error\n",
    "try:\n",
    "    a=math.exp(4/42*349304332)\n",
    "except OverflowError:\n",
    "    print(\"\\nOverflow error exception\")\n",
    "\n",
    "#Value error\n",
    "try:\n",
    "    a=math.sqrt(-32/3)\n",
    "except ValueError:\n",
    "    print(\"\\nValueError\")\n",
    "\n",
    "#Zero division error\n",
    "try:\n",
    "    a=2/0\n",
    "except ZeroDivisionError:\n",
    "    print(\"\\nZero Division exception\")\n",
    "\n",
    "#AssertionErrror\n",
    "try:\n",
    "    a=12\n",
    "    assert (a>10),\"assertion error\"\n",
    "except AssertionError:\n",
    "    print(\"\\nAssertion error\")\n",
    "    \n",
    "#Attribute Error\n",
    "try:\n",
    "    raise AttributeError\n",
    "except AttributeError:\n",
    "    print(\"\\nAttribute error\")    \n",
    "\n",
    "#EOF error\n",
    "try:\n",
    "    fo=open(\"file1.txt\",\"r\")\n",
    "    fo.read()\n",
    "except EOFError:\n",
    "    print(\"\\nEOF error\")\n",
    "\n",
    "#import error\n",
    "try:\n",
    "    import dummy\n",
    "except ImportError:\n",
    "    print(\"\\nImport error exception\")\n",
    "\n",
    "#look up error\n",
    "dict = {'empid':'empname'}\n",
    "try:\n",
    "    print(dict['abc'])\n",
    "except LookupError:\n",
    "    print('\\nLookup error')\n",
    "    \n",
    "#index error\n",
    "try:\n",
    "    list1=[12,13,14,45,34]\n",
    "    print(list1[9])\n",
    "except IndexError:\n",
    "    print(\"\\nIndexOutofbound\")\n",
    "\n",
    "#name error:\n",
    "try:\n",
    "    print(name)\n",
    "except NameError:\n",
    "    print(\"\\nName Error\")  \n",
    "    \n",
    "#keyboard interrupt\n",
    "try:\n",
    "    x=input()\n",
    "    time.sleep(1)\n",
    "except KeyboardInterrupt:\n",
    "    print(\"\\nKeyboard interrupt\")\n",
    "\n",
    "#KeyError\n",
    "try:\n",
    "    print(dict['1'])\n",
    "except:\n",
    "    print('\\nKey Error')\n",
    "\n",
    "#Unbound Local Error\n",
    "try:\n",
    "    raise UnboundLocalError\n",
    "except UnboundLocalError:\n",
    "    print('UnboundLocalError!')\n",
    "#IOError\n",
    "try:\n",
    "    fo = open('file1.txt',\"r\")\n",
    "    fo.write('write hereafter')\n",
    "except IOError:\n",
    "    print('\\nIOError!')\n",
    "\n",
    "#SyntaxError\n",
    "try:\n",
    "    raise SyntaxError\n",
    "except SyntaxError:\n",
    "    print('\\nSyntax Error !')\n",
    "\n",
    "#TypeError\n",
    "try:\n",
    "    str ='hello'\n",
    "    str = str-1\n",
    "except TypeError:\n",
    "    print('\\nType Error')\n",
    "\n",
    "#ValueError\n",
    "try:\n",
    "    str = 'hello'\n",
    "    print(int(str))\n",
    "except ValueError:\n",
    "    print('\\nValue Error')\n",
    "\n",
    "#Runtime Error\n",
    "try:\n",
    "    raise RuntimeError\n",
    "except RuntimeError:\n",
    "    print('\\nRuntime Error occured !')"
   ]
  },
  {
   "cell_type": "markdown",
   "metadata": {},
   "source": [
    "# Create file called  \"calc.py\" which has following functions\n",
    "\n",
    "i) functions to add 2 numbers\n",
    "\n",
    "ii) function to find diff of 2 numbers\n",
    "\n",
    "iii) function to multiply 2 numbers\n",
    "\n",
    "iv) all maths operations ( sqrt, div, floor div, modulus, primenumber)\n",
    "\n",
    "v) Fibonacci series\n",
    "        \n",
    "a) Write a new program in file \"maths.py\" such that you import functions of file \"calc.py\" to your new program\n",
    "\n",
    "b) Use From <module> import <function> statement to import only few function  from calc module.\n"
   ]
  },
  {
   "cell_type": "code",
   "execution_count": 93,
   "metadata": {},
   "outputs": [
    {
     "name": "stdout",
     "output_type": "stream",
     "text": [
      "Enter the number : 2\n",
      "0\n",
      "1\n",
      "Enter the number : 3\n",
      "3 is prime\n"
     ]
    }
   ],
   "source": [
    "#calc.py\n",
    "from __future__ import division\n",
    "import math\n",
    "\n",
    "def add(a,b):\n",
    "    print(\"a+b:\", a+b)\n",
    "    \n",
    "def diff(a,b):\n",
    "    print(\"a-b:\", a-b)\n",
    "    \n",
    "def multiply(a,b):\n",
    "    print(\"a*b:\", a*b)\n",
    "    \n",
    "def sqroot(a):\n",
    "    print(\"sqrt(a)\", math.sqrt(a))\n",
    "    \n",
    "def floor_div(a,b):\n",
    "    print(\"a//b:\", a//b)\n",
    "    \n",
    "def division(a,b):\n",
    "    print (\"a/b:\", a/b)\n",
    "    \n",
    "def fib_series(n):\n",
    "    first = 0\n",
    "    second= 1\n",
    "    \n",
    "    third = 0\n",
    "    while(n>third):\n",
    "        print(first)\n",
    "        total = first + second\n",
    "        first = second\n",
    "        second = total\n",
    "        third += 1\n",
    "\n",
    "n = int(input(\"Enter the number : \"))\n",
    "fib_series(n)\n",
    "\n",
    "\n",
    "def isprime(n):\n",
    "    for i in range(2, n):\n",
    "        if n%i==0:\n",
    "            print(n,\"not prime\")\n",
    "            break\n",
    "        else:\n",
    "            print(n,\"is prime\")\n",
    "            break\n",
    "            \n",
    "n=int(input(\"Enter the number : \"))        \n",
    "isprime(n)        "
   ]
  },
  {
   "cell_type": "code",
   "execution_count": 95,
   "metadata": {},
   "outputs": [
    {
     "name": "stdout",
     "output_type": "stream",
     "text": [
      "a+b: 38\n",
      "a-b: 33\n",
      "a*b: 12\n",
      "sqrt(a) 5.0\n",
      "a//b: 4\n",
      "a/b: 1.25\n",
      "0\n",
      "1\n",
      "1\n",
      "2\n",
      "3\n",
      "5\n",
      "8\n",
      "13\n",
      "21\n",
      "34\n",
      "10 not prime\n",
      "\n",
      "prime_check: None\n"
     ]
    }
   ],
   "source": [
    "#math.py\n",
    "#from calc import*\n",
    "\n",
    "add(23,15)\n",
    "diff(45,12)\n",
    "multiply(3,4)\n",
    "sqroot(25)\n",
    "floor_div(9,2)\n",
    "division(5,4)\n",
    "fib_series(10)\n",
    "\n",
    "print(\"\\nprime_check:\", isprime(10))"
   ]
  },
  {
   "cell_type": "markdown",
   "metadata": {},
   "source": [
    "# Create file called \"stringop.py\" which has following functions\n",
    "\n",
    "i) functions to sort numbers (Use loops for  sorting, do not use built in function)\n",
    "\n",
    "ii) function to search given element through binary search method.(Refer to net for the Binary search algorithm)\n",
    "\n",
    "iii) function to reverse the given string \n",
    "\n",
    "Write new program in file strpackage.py such that you import functions of file \"stringop.py\" to your new program"
   ]
  },
  {
   "cell_type": "code",
   "execution_count": 113,
   "metadata": {},
   "outputs": [],
   "source": [
    "#stringop.py\n",
    "def sortNumbers(num):\n",
    "    for i in range(len(num)-1):\n",
    "        for j in range(len(num)-1):\n",
    "            if num[j] > num[j+1]:\n",
    "                temp = num[j]\n",
    "                num[j] = num[j+1]\n",
    "                num[j+1] = temp\n",
    "    print(\"Sorted numbers:\", num)\n",
    "    \n",
    "def binary_search(item_list,item):\n",
    "    first = 0\n",
    "    last = len(item_list)-1\n",
    "    found = False\n",
    "    while( first<=last and not found):\n",
    "        mid = (first + last)//2\n",
    "        if item_list[mid] == item :\n",
    "            found = True\n",
    "        else:\n",
    "            if item < item_list[mid]:\n",
    "                last = mid - 1\n",
    "            else:\n",
    "                first = mid + 1\t\n",
    "    return found\n",
    "\n",
    "\n",
    "\n",
    "def reverselist(list2):\n",
    "    print(list2.reverse())\n",
    "    print(\"reversed list :\", list2)"
   ]
  },
  {
   "cell_type": "code",
   "execution_count": 115,
   "metadata": {},
   "outputs": [
    {
     "name": "stdout",
     "output_type": "stream",
     "text": [
      "Sorted numbers: [3, 11, 21, 34, 56]\n",
      "False\n",
      "None\n",
      "reversed list : [13, 32, 10, 12, 22, 11]\n"
     ]
    }
   ],
   "source": [
    "# strpackage.py\n",
    "#from stringop import*\n",
    "sortNumbers([34,56,21,11,3])\n",
    "\n",
    "print(binary_search([1,2,3,5,8], 6))\n",
    "    \n",
    "reverselist([11,22,12,10,32,13])"
   ]
  },
  {
   "cell_type": "code",
   "execution_count": null,
   "metadata": {},
   "outputs": [],
   "source": []
  }
 ],
 "metadata": {
  "kernelspec": {
   "display_name": "Python 3",
   "language": "python",
   "name": "python3"
  },
  "language_info": {
   "codemirror_mode": {
    "name": "ipython",
    "version": 3
   },
   "file_extension": ".py",
   "mimetype": "text/x-python",
   "name": "python",
   "nbconvert_exporter": "python",
   "pygments_lexer": "ipython3",
   "version": "3.6.10"
  }
 },
 "nbformat": 4,
 "nbformat_minor": 4
}
