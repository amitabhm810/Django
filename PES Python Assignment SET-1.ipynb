{
 "cells": [
  {
   "cell_type": "code",
   "execution_count": 14,
   "metadata": {},
   "outputs": [
    {
     "name": "stdout",
     "output_type": "stream",
     "text": [
      "Addition of 3 and 4 is 7\n",
      "Substraction 3 is 4\n",
      "Multiplication of 3 and 4 is 12\n",
      "Division of 3 and 4 is 0.75\n"
     ]
    }
   ],
   "source": [
    "#Write a program to Add, Subtract, Multiply, and Divide 2 numbers\n",
    "\n",
    "def add(x, y):\n",
    "    return(x+y)\n",
    "def sub(x, y):\n",
    "    return(x-y)\n",
    "def mul(x, y):\n",
    "    return(x * y)\n",
    "def div(x, y):\n",
    "    return(x /y)\n",
    "\n",
    "x =3\n",
    "y=4\n",
    "\n",
    "print(\"Addition of {} and {} is {}\".format(x, y, add(x, y)))\n",
    "print(\"Substraction {} is {}\".format(x, y, sub(x, y)))\n",
    "print(\"Multiplication of {} and {} is {}\".format(x, y, mul(x, y)))\n",
    "print(\"Division of {} and {} is {}\".format(x, y, div(x, y)))"
   ]
  },
  {
   "cell_type": "code",
   "execution_count": 15,
   "metadata": {},
   "outputs": [
    {
     "name": "stdout",
     "output_type": "stream",
     "text": [
      "Biggest among numbers 2, 4 and 9 is 9\n"
     ]
    }
   ],
   "source": [
    "#Write a program to find the biggest of 3 numbers (Use If Condition)\n",
    "\n",
    "def biggest(x, y, z):\n",
    "    \n",
    "    if(x>y)&(x>z):\n",
    "        return x\n",
    "        \n",
    "    elif(y>x)&(y>z):\n",
    "        return y\n",
    "        \n",
    "    else:\n",
    "        return z\n",
    "        \n",
    "x = 2\n",
    "y = 4\n",
    "z = 9\n",
    "\n",
    "print(\"Biggest among numbers {}, {} and {} is {}\".format(x, y, z, biggest(x, y, z)))"
   ]
  },
  {
   "cell_type": "code",
   "execution_count": 16,
   "metadata": {},
   "outputs": [
    {
     "name": "stdout",
     "output_type": "stream",
     "text": [
      "enter the number : 23\n",
      "Number is Odd\n"
     ]
    }
   ],
   "source": [
    "#Write a program to find given number is odd or Even\n",
    "\n",
    "def odd_even(x):\n",
    "    if (x > 0):\n",
    "        if(x%2 == 0):\n",
    "            print(\"Number is even\")\n",
    "        else:\n",
    "            print(\"Number is Odd\")\n",
    "    else:\n",
    "        print(\"0 or -ve number are not allowed\")\n",
    "        \n",
    "x = int(input(\"enter the number : \"))\n",
    "\n",
    "odd_even(x)"
   ]
  },
  {
   "cell_type": "code",
   "execution_count": 17,
   "metadata": {},
   "outputs": [
    {
     "name": "stdout",
     "output_type": "stream",
     "text": [
      "22 is not a prime number\n",
      "2 times 11 is 22\n"
     ]
    }
   ],
   "source": [
    "#Write a program to find the number is Prime or not.\n",
    "\n",
    "def prime(n):\n",
    "    if n > 1:\n",
    "        for i in range(2,n):\n",
    "            if (n % i) == 0:\n",
    "                print(\"{} is not a prime number\".format(n))\n",
    "                print(i,\"times\",n//i,\"is\",n)\n",
    "                break\n",
    "            else:\n",
    "                print(n,\"is a prime number\")\n",
    "\n",
    "    else:\n",
    "        print(n,\"is not a prime number\")\n",
    "        \n",
    "prime(22)"
   ]
  },
  {
   "cell_type": "markdown",
   "metadata": {},
   "source": [
    "Write a program to receive 5 command line arguments and print each argument separately.\n",
    "Example: >> python test.py arg1 arg2 arg3 arg4 arg5\n",
    "a) From the above statement your program should receive arguments and print them each of them. \n",
    "b) Find the biggest of three numbers, where three numbers are passed as command line arguments."
   ]
  },
  {
   "cell_type": "code",
   "execution_count": 18,
   "metadata": {},
   "outputs": [
    {
     "name": "stdout",
     "output_type": "stream",
     "text": [
      "Number of arguments: 3 arguments.\n",
      "Argument List: ['C:\\\\Users\\\\AMITABH\\\\AppData\\\\Local\\\\conda\\\\conda\\\\envs\\\\latest\\\\lib\\\\site-packages\\\\ipykernel_launcher.py', '-f', 'C:\\\\Users\\\\AMITABH\\\\AppData\\\\Roaming\\\\jupyter\\\\runtime\\\\kernel-ed4be43d-4d00-4ea1-9c4c-1bf4a3b054b4.json']\n"
     ]
    }
   ],
   "source": [
    "import sys\n",
    "\n",
    "print('Number of arguments:', len(sys.argv), 'arguments.')\n",
    "print('Argument List:', str(sys.argv))\n",
    "\n",
    "x  = str(sys.argv)\n",
    "\n",
    "#n = [1, 12, 3, 44]\n",
    "\n",
    "def big(n):\n",
    "\n",
    "    if len(n) <= 4:\n",
    "        \n",
    "        x = n[1]\n",
    "        y = n[2]\n",
    "        z = n[3]\n",
    "    \n",
    "        if (x > y) and (x > z):\n",
    "            print(\"Biggest number is : {}\".format(x))\n",
    "        elif(y>x) and (y>z):\n",
    "            print(\"Biggest number is : {}\".format(y))\n",
    "        elif(z>x) and (z>y):\n",
    "            print(\"Biggest number is : {}\".format(z))\n",
    "        else:\n",
    "            print(\"All are equals\")\n",
    "            \n",
    "big(x)"
   ]
  },
  {
   "cell_type": "markdown",
   "metadata": {},
   "source": [
    "# Write a program to read string and print each character separately.\n",
    "    a) Slice the string using slice operator [:] slice the portion the strings to create a sub strings.\n",
    "    b) Repeat the string 100 times using repeat operator *\n",
    "    c) Read string 2 and concatenate with other string using + operator.\n"
   ]
  },
  {
   "cell_type": "code",
   "execution_count": 19,
   "metadata": {},
   "outputs": [
    {
     "name": "stdout",
     "output_type": "stream",
     "text": [
      "h\n",
      "e\n",
      "l\n",
      "l\n",
      "o\n",
      " \n",
      "w\n",
      "o\n",
      "r\n",
      "l\n",
      "d\n",
      "lo world\n",
      "hello worldhello worldhello worldhello worldhello worldhello worldhello worldhello worldhello worldhello worldhello worldhello worldhello worldhello worldhello worldhello worldhello worldhello worldhello worldhello worldhello worldhello worldhello worldhello worldhello worldhello worldhello worldhello worldhello worldhello worldhello worldhello worldhello worldhello worldhello worldhello worldhello worldhello worldhello worldhello worldhello worldhello worldhello worldhello worldhello worldhello worldhello worldhello worldhello worldhello worldhello worldhello worldhello worldhello worldhello worldhello worldhello worldhello worldhello worldhello worldhello worldhello worldhello worldhello worldhello worldhello worldhello worldhello worldhello worldhello worldhello worldhello worldhello worldhello worldhello worldhello worldhello worldhello worldhello worldhello worldhello worldhello worldhello worldhello worldhello worldhello worldhello worldhello worldhello worldhello worldhello worldhello worldhello worldhello worldhello worldhello worldhello worldhello worldhello worldhello world\n",
      "2 hello world\n"
     ]
    }
   ],
   "source": [
    "x = 'hello world'\n",
    "\n",
    "for i in x:\n",
    "    print(i)\n",
    "    \n",
    "y = x[3:]\n",
    "print(y)\n",
    "\n",
    "z = x*100\n",
    "print(z)\n",
    "\n",
    "w = '2 ' + x\n",
    "print(w)"
   ]
  },
  {
   "cell_type": "markdown",
   "metadata": {},
   "source": [
    "# Create a list with at least 10 elements having integer values in it;\n",
    "       Print all elements\n",
    "       Perform slicing operations\n",
    "       Perform repetition with * operator\n",
    "       Perform concatenation with other list.\n"
   ]
  },
  {
   "cell_type": "code",
   "execution_count": 20,
   "metadata": {},
   "outputs": [
    {
     "name": "stdout",
     "output_type": "stream",
     "text": [
      "3\n",
      "5\n",
      "12\n",
      "93\n",
      "1\n",
      "[5, 12]\n",
      "[3, 5, 12, 93, 1, 3, 5, 12, 93, 1, 3, 5, 12, 93, 1, 3, 5, 12, 93, 1, 3, 5, 12, 93, 1, 3, 5, 12, 93, 1, 3, 5, 12, 93, 1, 3, 5, 12, 93, 1, 3, 5, 12, 93, 1, 3, 5, 12, 93, 1]\n",
      "[3, 5, 12, 93, 1, 34, 25, 8, 7, 0, 2]\n"
     ]
    }
   ],
   "source": [
    "x = [3, 5, 12, 93, 1]\n",
    "\n",
    "for i in x:\n",
    "    print(i)\n",
    "    \n",
    "y = x[1:3]\n",
    "print(y)\n",
    "\n",
    "z = x*10\n",
    "print(z)\n",
    "\n",
    "x1 = [34, 25, 8, 7, 0, 2]\n",
    "w = x + x1\n",
    "print(w)"
   ]
  },
  {
   "cell_type": "markdown",
   "metadata": {},
   "source": [
    "# Repeat program 7 with Tuples (Take example from Tutorial)"
   ]
  },
  {
   "cell_type": "code",
   "execution_count": 21,
   "metadata": {},
   "outputs": [
    {
     "name": "stdout",
     "output_type": "stream",
     "text": [
      "3\n",
      "5\n",
      "12\n",
      "93\n",
      "1\n",
      "\n",
      "\n",
      "(5, 12)\n",
      "\n",
      "\n",
      "(3, 5, 12, 93, 1, 3, 5, 12, 93, 1, 3, 5, 12, 93, 1, 3, 5, 12, 93, 1, 3, 5, 12, 93, 1, 3, 5, 12, 93, 1, 3, 5, 12, 93, 1, 3, 5, 12, 93, 1, 3, 5, 12, 93, 1, 3, 5, 12, 93, 1)\n",
      "\n",
      "\n",
      "(3, 5, 12, 93, 1, 34, 25, 8, 7, 0, 2)\n"
     ]
    }
   ],
   "source": [
    "x = (3, 5, 12, 93, 1)\n",
    "\n",
    "for i in x:\n",
    "    print(i)\n",
    "    \n",
    "print(\"\\n\")\n",
    "    \n",
    "y = x[1:3]\n",
    "print(y)\n",
    "print(\"\\n\")\n",
    "\n",
    "z = x*10\n",
    "print(z)\n",
    "print(\"\\n\")\n",
    "\n",
    "x1 = (34, 25, 8, 7, 0, 2)\n",
    "w = x + x1\n",
    "print(w)"
   ]
  },
  {
   "cell_type": "code",
   "execution_count": 22,
   "metadata": {},
   "outputs": [],
   "source": [
    "#Write program to Add, Subtract, Multiply, Divide 2 Complex numbers."
   ]
  },
  {
   "cell_type": "code",
   "execution_count": 23,
   "metadata": {},
   "outputs": [
    {
     "name": "stdout",
     "output_type": "stream",
     "text": [
      "Addition of two complex numbers :  (7-4j)\n",
      "Addition of two complex numbers :  (1+10j)\n",
      "Addition of two complex numbers :  (33-19j)\n",
      "Addition of two complex numbers :  (-0.15517241379310348+0.6379310344827587j)\n"
     ]
    }
   ],
   "source": [
    "def add_co(x, y):\n",
    "    \n",
    "    print(\"Addition of two complex numbers : \",x+y)\n",
    "    \n",
    "def sub_co(x, y):\n",
    "    \n",
    "    print(\"Addition of two complex numbers : \",x-y)\n",
    "    \n",
    "def mul_co(x, y):\n",
    "    \n",
    "    print(\"Addition of two complex numbers : \",x*y)\n",
    "    \n",
    "def div_co(x, y):\n",
    "    \n",
    "    print(\"Addition of two complex numbers : \",x/y)\n",
    "\n",
    "add_co((4+3j), (3-7j))\n",
    "sub_co((4+3j), (3-7j))\n",
    "mul_co((4+3j), (3-7j))\n",
    "div_co((4+3j), (3-7j))"
   ]
  },
  {
   "cell_type": "markdown",
   "metadata": {},
   "source": [
    "Using assignment operators, perform following operations\n",
    "Addition, Substation, Multiplication, Division, Modulus, Exponent and Floor division operations"
   ]
  },
  {
   "cell_type": "code",
   "execution_count": 24,
   "metadata": {},
   "outputs": [
    {
     "name": "stdout",
     "output_type": "stream",
     "text": [
      "Addition of 3 and 4 is 7\n",
      "Division of 3 and 4 is -1\n",
      "Multiplication of 3 and 4 is 12\n",
      "Division of 3 and 4 is 0.75\n"
     ]
    }
   ],
   "source": [
    "#Write a program to Add, Subtract, Multiply, and Divide 2 numbers\n",
    "\n",
    "def add(x, y):\n",
    "    x += y\n",
    "    return x\n",
    "\n",
    "def sub(x, y):\n",
    "    x -= y\n",
    "    return x\n",
    "\n",
    "def mul(x, y):\n",
    "    x *= y\n",
    "    return x\n",
    "\n",
    "def div(x, y):\n",
    "    x /= y\n",
    "    return x\n",
    "\n",
    "x =3\n",
    "y=4\n",
    "\n",
    "print(\"Addition of {} and {} is {}\".format(x, y, add(x, y)))\n",
    "print(\"Division of {} and {} is {}\".format(x, y, sub(x, y)))\n",
    "print(\"Multiplication of {} and {} is {}\".format(x, y, mul(x, y)))\n",
    "print(\"Division of {} and {} is {}\".format(x, y, div(x, y)))"
   ]
  },
  {
   "cell_type": "markdown",
   "metadata": {},
   "source": [
    "# Read 2 numbers to variable a and b and perform all bitwise operations on that numbers."
   ]
  },
  {
   "cell_type": "code",
   "execution_count": 25,
   "metadata": {},
   "outputs": [
    {
     "name": "stdout",
     "output_type": "stream",
     "text": [
      "a & b = 0\n",
      "a | b = 14\n",
      "~a = -11\n",
      "a ^ b = 14\n"
     ]
    }
   ],
   "source": [
    "a = 10\n",
    "b = 4\n",
    "        \n",
    "print(\"a & b =\", a & b)  \n",
    "    \n",
    "print(\"a | b =\", a | b)  \n",
    "      \n",
    "print(\"~a =\", ~a)  \n",
    "      \n",
    "print(\"a ^ b =\", a ^ b)  "
   ]
  },
  {
   "cell_type": "markdown",
   "metadata": {},
   "source": [
    "# Read 10 numbers from user and find the average of all.\n",
    "a) Use comparison operator to check how many numbers are less than average and print them\n",
    "b) Check how many numbers are more than average.\n",
    "c) How many are equal to average.\n"
   ]
  },
  {
   "cell_type": "code",
   "execution_count": 30,
   "metadata": {},
   "outputs": [
    {
     "name": "stdout",
     "output_type": "stream",
     "text": [
      "enter the number :34\n",
      "enter the number :23\n",
      "enter the number :1\n",
      "enter the number :2\n",
      "enter the number :1\n",
      "enter the number :2\n",
      "enter the number :2\n",
      "enter the number :2\n",
      "enter the number :4\n",
      "enter the number :4\n",
      "average is 7.5\n",
      "No greater than average 2\n",
      "No lower than average 8\n"
     ]
    }
   ],
   "source": [
    "n = []\n",
    "x = 0\n",
    "while x <10:\n",
    "    n.append(int(input(\"enter the number :\")))\n",
    "    x+=1\n",
    "    \n",
    "avg = sum(n)/len(n)\n",
    "\n",
    "count_greater = 0\n",
    "count_lower = 0\n",
    "count_equal = 0\n",
    "for i in range(len(n)):\n",
    "    if n[i]>avg:\n",
    "        count_greater +=1\n",
    "        \n",
    "    elif n[i]<avg:\n",
    "        count_lower +=1\n",
    "        \n",
    "    else:\n",
    "        count_equal +=1\n",
    "\n",
    "print(\"average is {}\".format(avg))\n",
    "print(\"No greater than average {}\".format(count_greater))\n",
    "print(\"No lower than average {}\".format(count_lower))"
   ]
  },
  {
   "cell_type": "markdown",
   "metadata": {},
   "source": [
    "# Write a program to find the biggest of 4 numbers."
   ]
  },
  {
   "cell_type": "code",
   "execution_count": 31,
   "metadata": {},
   "outputs": [
    {
     "name": "stdout",
     "output_type": "stream",
     "text": [
      "enter the number :3\n",
      "enter the number :45\n",
      "enter the number :2\n",
      "enter the number :34\n",
      "\n",
      "Biggest among numbers 3, 45, 2 and 34 is 45\n"
     ]
    }
   ],
   "source": [
    "def biggest(x, y, z, w):\n",
    "    \n",
    "    if(x>y)&(x>z)&(x>w):\n",
    "        return x\n",
    "        \n",
    "    elif(y>x)&(y>z)&(y>w):\n",
    "        return y\n",
    "    \n",
    "    elif(w>x)&(w>z)&(w>z):\n",
    "        return w\n",
    "    else:\n",
    "        return z\n",
    "        \n",
    "x = (int(input(\"enter the number :\")))\n",
    "y = (int(input(\"enter the number :\")))\n",
    "z = (int(input(\"enter the number :\")))\n",
    "w = (int(input(\"enter the number :\")))\n",
    "\n",
    "print(\"\\nBiggest among numbers {}, {}, {} and {} is {}\".format(x, y, z, w, biggest(x, y, z, w)))"
   ]
  },
  {
   "cell_type": "markdown",
   "metadata": {},
   "source": [
    "# Write a program to create two list A & B such that List A contains Employee Id, List B contain Employee name (minimum 10 entries in each list) & perform following operation\n",
    "     a) Print all names on to screen\n",
    "     b) Read the index from the  user and print the corresponding name from both list.\n",
    "     c) Print the names from 4th position to 9th position\n",
    "     d) Print all names from 3rd position till end of the list\n",
    "     e) Repeat list elements by specified number of times (N- times, where N is entered by user)\n",
    "     f)  Concatenate two lists and print the output.\n",
    "     g) Print element of list A and B side by side.(i.e. List-A First element, List-B First element )\n"
   ]
  },
  {
   "cell_type": "code",
   "execution_count": 33,
   "metadata": {},
   "outputs": [
    {
     "name": "stdout",
     "output_type": "stream",
     "text": [
      "\n",
      "emp details for 0 :\n",
      "enter emp id :1\n",
      "enter emp name:a\n",
      "\n",
      "emp details for 1 :\n",
      "enter emp id :2\n",
      "enter emp name:b\n",
      "\n",
      "emp details for 2 :\n",
      "enter emp id :3\n",
      "enter emp name:c\n",
      "\n",
      "emp details for 3 :\n",
      "enter emp id :4\n",
      "enter emp name:d\n",
      "\n",
      "emp details for 4 :\n",
      "enter emp id :5\n",
      "enter emp name:e\n",
      "\n",
      "emp details for 5 :\n",
      "enter emp id :6\n",
      "enter emp name:f\n",
      "\n",
      "emp details for 6 :\n",
      "enter emp id :7\n",
      "enter emp name:g\n",
      "\n",
      "emp details for 7 :\n",
      "enter emp id :8\n",
      "enter emp name:h\n",
      "\n",
      "emp details for 8 :\n",
      "enter emp id :9\n",
      "enter emp name:i\n",
      "\n",
      "emp details for 9 :\n",
      "enter emp id :10\n",
      "enter emp name:j\n",
      "Employee names are :  ['a', 'b', 'c', 'd', 'e', 'f', 'g', 'h', 'i', 'j']\n",
      "\n",
      "Enter the index :3\n",
      "Emp name for the index 3 is d\n",
      "\n",
      "Names from 4th position to 9th position are : ['d', 'e', 'f', 'g', 'h', 'i']\n",
      "\n",
      "3rd position till end of the list:  ['c', 'd', 'e', 'f', 'g', 'h', 'i', 'j']\n",
      "\n",
      "Enter the repeat number :2\n",
      "List :  [ 1  1  2  2  3  3  4  4  5  5  6  6  7  7  8  8  9  9 10 10]\n",
      "\n",
      "Concatenation Result: [1, 2, 3, 4, 5, 6, 7, 8, 9, 10, 'a', 'b', 'c', 'd', 'e', 'f', 'g', 'h', 'i', 'j']\n",
      "\n",
      "Elements are: \n",
      " a 1\n",
      "b 2\n",
      "c 3\n",
      "d 4\n",
      "e 5\n",
      "f 6\n",
      "g 7\n",
      "h 8\n",
      "i 9\n",
      "j 10\n"
     ]
    }
   ],
   "source": [
    "import numpy as np\n",
    "\n",
    "emp_id = []\n",
    "emp_nm = []\n",
    "x = 0\n",
    "while x <10:\n",
    "    print(\"\\nemp details for {} :\".format(x))\n",
    "    emp_id.append(int(input(\"enter emp id :\")))\n",
    "    emp_nm.append(input(\"enter emp name:\"))\n",
    "    x+=1\n",
    "\n",
    "    \n",
    "print(\"Employee names are : \", emp_nm)\n",
    "\n",
    "w = int(input(\"\\nEnter the index :\"))\n",
    "print(\"Emp name for the index {} is {}\".format(w, emp_nm[w]))\n",
    "\n",
    "print(\"\\nNames from 4th position to 9th position are :\", emp_nm[3:9])\n",
    "\n",
    "print(\"\\n3rd position till end of the list: \", emp_nm[2:])\n",
    "\n",
    "w = int(input(\"\\nEnter the repeat number :\"))\n",
    "print(\"List : \",np.repeat(emp_id,w))\n",
    "\n",
    "\n",
    "emp = emp_id + emp_nm\n",
    "print(\"\\nConcatenation Result: {}\".format(emp))\n",
    "\n",
    "res = \"\\n\".join(\"{} {}\".format(x, y) for x, y in zip(emp_nm, emp_id))\n",
    "print(\"\\nElements are: \\n\", res)"
   ]
  },
  {
   "cell_type": "markdown",
   "metadata": {},
   "source": [
    "# Create a list of 5 names and check given name exist in the List.\n",
    "        a) Use membership operator (IN) to check the presence of an element.\n",
    "        b) Perform above task without using membership operator.\n",
    "        c) Print the elements of the list in reverse direction.\n"
   ]
  },
  {
   "cell_type": "code",
   "execution_count": 35,
   "metadata": {},
   "outputs": [
    {
     "name": "stdout",
     "output_type": "stream",
     "text": [
      "enter emp name:a\n",
      "enter emp name:b\n",
      "enter emp name:c\n",
      "enter emp name:d\n",
      "enter emp name:e\n",
      "Enter the name you want to check: a\n",
      "\n",
      "name present\n",
      "\n",
      "\n",
      "name present\n",
      "\n",
      "Elements in reverse order:  ['e', 'd', 'c', 'b', 'a']\n"
     ]
    }
   ],
   "source": [
    "emp_nm = []\n",
    "x = 0\n",
    "while x <5:\n",
    "    emp_nm.append(input(\"enter emp name:\"))\n",
    "    x+=1\n",
    "    \n",
    "x = input(\"Enter the name you want to check: \")\n",
    "\n",
    "\n",
    "if x in emp_nm:\n",
    "    print(\"\\nname present\")\n",
    "else:\n",
    "    print(\"\\nnot present\")\n",
    "\n",
    "    \n",
    "    \n",
    "print(\"\\n\")    \n",
    "for i in range(len(emp_nm)):\n",
    "    if x==emp_nm[i]:\n",
    "        print(\"name present\")\n",
    "        break\n",
    "    else:\n",
    "        print(\"not present\")\n",
    "    \n",
    "    \n",
    "    \n",
    "\n",
    "print(\"\\nElements in reverse order: \", emp_nm[::-1])"
   ]
  },
  {
   "cell_type": "markdown",
   "metadata": {},
   "source": [
    "# Write program to perform following:\n",
    "     i) Check whether given number is prime or not.\n",
    "    ii) Generate all the prime numbers between 1 to N where N is given number.\n"
   ]
  },
  {
   "cell_type": "code",
   "execution_count": 36,
   "metadata": {},
   "outputs": [
    {
     "name": "stdout",
     "output_type": "stream",
     "text": [
      "Enter the number to be checked for prime: 23\n",
      "23 is a prime number\n"
     ]
    }
   ],
   "source": [
    "def prime(n):\n",
    "    if n > 1:\n",
    "        for i in range(2,n):\n",
    "            if (n % i) == 0:\n",
    "                print(\"{} is not a prime number\".format(n))\n",
    "                print(i,\"times\",n//i,\"is\",n)\n",
    "                break\n",
    "            else:\n",
    "                print(n,\"is a prime number\")\n",
    "                break\n",
    "\n",
    "    else:\n",
    "        print(n,\"is not a prime number\")\n",
    "        \n",
    "\n",
    "n = int(input(\"Enter the number to be checked for prime: \"))\n",
    "prime(n)"
   ]
  },
  {
   "cell_type": "code",
   "execution_count": 37,
   "metadata": {},
   "outputs": [
    {
     "name": "stdout",
     "output_type": "stream",
     "text": [
      "Enter the range to be checked for prime: 10\n",
      "1 is not a prime number\n",
      "Prime numbers in the range are: [3, 5, 7, 9]\n"
     ]
    }
   ],
   "source": [
    "def prime_range(n):\n",
    "    \n",
    "    prime_no = []\n",
    "    for i in range(1, n+1):\n",
    "        \n",
    "        if i > 1:\n",
    "            for x in range(2,n):\n",
    "                if (i % x) == 0:\n",
    "                    break\n",
    "                else:\n",
    "                    prime_no.append(i)\n",
    "                    break\n",
    "\n",
    "        else:\n",
    "            print(i,\"is not a prime number\")\n",
    "            \n",
    "    print(\"Prime numbers in the range are:\", prime_no)\n",
    "\n",
    "k = int(input(\"Enter the range to be checked for prime: \"))\n",
    "prime_range(k)"
   ]
  },
  {
   "cell_type": "markdown",
   "metadata": {},
   "source": [
    "# Write program to find the biggest and Smallest of N numbers.\n",
    "      PS: Use the functions to find biggest and smallest numbers. "
   ]
  },
  {
   "cell_type": "code",
   "execution_count": 38,
   "metadata": {},
   "outputs": [
    {
     "name": "stdout",
     "output_type": "stream",
     "text": [
      "How many numbers: 10\n",
      "Enter number 1\n",
      "Enter number 2\n",
      "Enter number 3\n",
      "Enter number 4\n",
      "Enter number 5\n",
      "Enter number 6\n",
      "Enter number 7\n",
      "Enter number 8\n",
      "Enter number 9\n",
      "Enter number 0\n",
      "\n",
      "Maximum element in the list is : 9 \n",
      "Minimum element in the list is : 0\n"
     ]
    }
   ],
   "source": [
    "lst = []\n",
    "num = int(input('How many numbers: '))\n",
    "\n",
    "for n in range(num):\n",
    "    numbers = int(input('Enter number '))\n",
    "    lst.append(numbers)\n",
    "    \n",
    "print(\"\\nMaximum element in the list is :\", max(lst), \"\\nMinimum element in the list is :\", min(lst))"
   ]
  },
  {
   "cell_type": "markdown",
   "metadata": {},
   "source": [
    "# Using loop structures print numbers from 1 to 100.  and using the same loop print numbers from 100 to 1 (reverse printing)\n",
    "a) By using For loop \n",
    "b) By using while loop\n",
    "c) Let mystring =\"Hello world\"\n",
    "print each character of mystring in to separate line using appropriate loop structure.\n"
   ]
  },
  {
   "cell_type": "code",
   "execution_count": 1,
   "metadata": {},
   "outputs": [
    {
     "name": "stdout",
     "output_type": "stream",
     "text": [
      "1\n",
      "2\n",
      "3\n",
      "4\n",
      "5\n",
      "6\n",
      "7\n",
      "8\n",
      "9\n",
      "10\n",
      "11\n",
      "12\n",
      "13\n",
      "14\n",
      "15\n",
      "16\n",
      "17\n",
      "18\n",
      "19\n",
      "20\n",
      "21\n",
      "22\n",
      "23\n",
      "24\n",
      "25\n",
      "26\n",
      "27\n",
      "28\n",
      "29\n",
      "30\n",
      "31\n",
      "32\n",
      "33\n",
      "34\n",
      "35\n",
      "36\n",
      "37\n",
      "38\n",
      "39\n",
      "40\n",
      "41\n",
      "42\n",
      "43\n",
      "44\n",
      "45\n",
      "46\n",
      "47\n",
      "48\n",
      "49\n",
      "50\n",
      "51\n",
      "52\n",
      "53\n",
      "54\n",
      "55\n",
      "56\n",
      "57\n",
      "58\n",
      "59\n",
      "60\n",
      "61\n",
      "62\n",
      "63\n",
      "64\n",
      "65\n",
      "66\n",
      "67\n",
      "68\n",
      "69\n",
      "70\n",
      "71\n",
      "72\n",
      "73\n",
      "74\n",
      "75\n",
      "76\n",
      "77\n",
      "78\n",
      "79\n",
      "80\n",
      "81\n",
      "82\n",
      "83\n",
      "84\n",
      "85\n",
      "86\n",
      "87\n",
      "88\n",
      "89\n",
      "90\n",
      "91\n",
      "92\n",
      "93\n",
      "94\n",
      "95\n",
      "96\n",
      "97\n",
      "98\n",
      "99\n",
      "100\n"
     ]
    }
   ],
   "source": [
    "for x in range(1, 101):\n",
    "    print(x)"
   ]
  },
  {
   "cell_type": "code",
   "execution_count": 5,
   "metadata": {},
   "outputs": [],
   "source": [
    "for x in range(100, 0):\n",
    "    print(x)"
   ]
  },
  {
   "cell_type": "code",
   "execution_count": 2,
   "metadata": {},
   "outputs": [
    {
     "name": "stdout",
     "output_type": "stream",
     "text": [
      "1\n",
      "2\n",
      "3\n",
      "4\n",
      "5\n",
      "6\n",
      "7\n",
      "8\n",
      "9\n",
      "10\n",
      "11\n",
      "12\n",
      "13\n",
      "14\n",
      "15\n",
      "16\n",
      "17\n",
      "18\n",
      "19\n",
      "20\n",
      "21\n",
      "22\n",
      "23\n",
      "24\n",
      "25\n",
      "26\n",
      "27\n",
      "28\n",
      "29\n",
      "30\n",
      "31\n",
      "32\n",
      "33\n",
      "34\n",
      "35\n",
      "36\n",
      "37\n",
      "38\n",
      "39\n",
      "40\n",
      "41\n",
      "42\n",
      "43\n",
      "44\n",
      "45\n",
      "46\n",
      "47\n",
      "48\n",
      "49\n",
      "50\n",
      "51\n",
      "52\n",
      "53\n",
      "54\n",
      "55\n",
      "56\n",
      "57\n",
      "58\n",
      "59\n",
      "60\n",
      "61\n",
      "62\n",
      "63\n",
      "64\n",
      "65\n",
      "66\n",
      "67\n",
      "68\n",
      "69\n",
      "70\n",
      "71\n",
      "72\n",
      "73\n",
      "74\n",
      "75\n",
      "76\n",
      "77\n",
      "78\n",
      "79\n",
      "80\n",
      "81\n",
      "82\n",
      "83\n",
      "84\n",
      "85\n",
      "86\n",
      "87\n",
      "88\n",
      "89\n",
      "90\n",
      "91\n",
      "92\n",
      "93\n",
      "94\n",
      "95\n",
      "96\n",
      "97\n",
      "98\n",
      "99\n",
      "100\n"
     ]
    }
   ],
   "source": [
    "x=1\n",
    "while x <101:\n",
    "    print(x)\n",
    "    x+=1"
   ]
  },
  {
   "cell_type": "code",
   "execution_count": 6,
   "metadata": {},
   "outputs": [
    {
     "name": "stdout",
     "output_type": "stream",
     "text": [
      "100\n",
      "99\n",
      "98\n",
      "97\n",
      "96\n",
      "95\n",
      "94\n",
      "93\n",
      "92\n",
      "91\n",
      "90\n",
      "89\n",
      "88\n",
      "87\n",
      "86\n",
      "85\n",
      "84\n",
      "83\n",
      "82\n",
      "81\n",
      "80\n",
      "79\n",
      "78\n",
      "77\n",
      "76\n",
      "75\n",
      "74\n",
      "73\n",
      "72\n",
      "71\n",
      "70\n",
      "69\n",
      "68\n",
      "67\n",
      "66\n",
      "65\n",
      "64\n",
      "63\n",
      "62\n",
      "61\n",
      "60\n",
      "59\n",
      "58\n",
      "57\n",
      "56\n",
      "55\n",
      "54\n",
      "53\n",
      "52\n",
      "51\n",
      "50\n",
      "49\n",
      "48\n",
      "47\n",
      "46\n",
      "45\n",
      "44\n",
      "43\n",
      "42\n",
      "41\n",
      "40\n",
      "39\n",
      "38\n",
      "37\n",
      "36\n",
      "35\n",
      "34\n",
      "33\n",
      "32\n",
      "31\n",
      "30\n",
      "29\n",
      "28\n",
      "27\n",
      "26\n",
      "25\n",
      "24\n",
      "23\n",
      "22\n",
      "21\n",
      "20\n",
      "19\n",
      "18\n",
      "17\n",
      "16\n",
      "15\n",
      "14\n",
      "13\n",
      "12\n",
      "11\n",
      "10\n",
      "9\n",
      "8\n",
      "7\n",
      "6\n",
      "5\n",
      "4\n",
      "3\n",
      "2\n",
      "1\n"
     ]
    }
   ],
   "source": [
    "x=100\n",
    "while x >0:\n",
    "    print(x)\n",
    "    x-=1"
   ]
  },
  {
   "cell_type": "code",
   "execution_count": 3,
   "metadata": {},
   "outputs": [
    {
     "name": "stdout",
     "output_type": "stream",
     "text": [
      "h\n",
      "e\n",
      "l\n",
      "l\n",
      "o\n",
      " \n",
      "w\n",
      "o\n",
      "r\n",
      "l\n",
      "d\n"
     ]
    }
   ],
   "source": [
    "x = 'hello world'\n",
    "\n",
    "for i in x:\n",
    "    print(i)"
   ]
  },
  {
   "cell_type": "markdown",
   "metadata": {},
   "source": [
    "# Using loop structures print even numbers between 1 to 100.  \n",
    "a) By using For loop, use continue/ break/ pass statement to skip odd numbers.\n",
    "    \n",
    "    i) Break the loop if the value is 50\n",
    "    ii) Use continue for the values 10,20,30,40,50\n",
    "b) By using while loop, use continue/ break/ pass statement to skip odd numbers.\n",
    "    \n",
    "    i) Break the loop if the value is 90\n",
    "    ii) Use continue for the values 60,70,80,90\n"
   ]
  },
  {
   "cell_type": "code",
   "execution_count": 10,
   "metadata": {},
   "outputs": [
    {
     "name": "stdout",
     "output_type": "stream",
     "text": [
      "2\n",
      "4\n",
      "6\n",
      "8\n",
      "10\n",
      "12\n",
      "14\n",
      "16\n",
      "18\n",
      "20\n",
      "22\n",
      "24\n",
      "26\n",
      "28\n",
      "30\n",
      "32\n",
      "34\n",
      "36\n",
      "38\n",
      "40\n",
      "42\n",
      "44\n",
      "46\n",
      "48\n",
      "50\n"
     ]
    }
   ],
   "source": [
    "for x in range (1,101):\n",
    "    if (x % 2 == 0) :\n",
    "        print(x)\n",
    "    if(x==50):\n",
    "        break"
   ]
  },
  {
   "cell_type": "code",
   "execution_count": 12,
   "metadata": {},
   "outputs": [
    {
     "name": "stdout",
     "output_type": "stream",
     "text": [
      "2\n",
      "4\n",
      "6\n",
      "8\n",
      "10\n",
      "12\n",
      "14\n",
      "16\n",
      "18\n",
      "20\n",
      "22\n",
      "24\n",
      "26\n",
      "28\n",
      "30\n",
      "32\n",
      "34\n",
      "36\n",
      "38\n",
      "40\n",
      "42\n",
      "44\n",
      "46\n",
      "48\n",
      "50\n"
     ]
    }
   ],
   "source": [
    "x = 1\n",
    "\n",
    "while(x < 101):\n",
    "    if (x % 2 == 0) :\n",
    "        print(x)\n",
    "    if(x==50):\n",
    "        break\n",
    "        \n",
    "    x+=1"
   ]
  },
  {
   "cell_type": "markdown",
   "metadata": {},
   "source": [
    "# Write a program to generate a Fibonacci series of numbers.\n",
    "Starting numbers are 0 and 1,  new number in the series is generated by adding previous two numbers in the series.\n",
    "\n",
    "Example : 0, 1, 1, 2, 3, 5, 8,13,21,.....\n",
    "   \n",
    "   a) Number of elements printed in the series should be N numbers, Where N is any +ve integer.\n",
    "   \n",
    "   b) Generate the series until the element in the series is less than Max number."
   ]
  },
  {
   "cell_type": "code",
   "execution_count": 13,
   "metadata": {},
   "outputs": [
    {
     "name": "stdout",
     "output_type": "stream",
     "text": [
      "\n",
      "Please Enter the Range Number: 10\n",
      "0\n",
      "1\n",
      "1\n",
      "2\n",
      "3\n",
      "5\n",
      "8\n",
      "13\n",
      "21\n",
      "34\n"
     ]
    }
   ],
   "source": [
    "Number = int(input(\"\\nPlease Enter the Range Number: \"))\n",
    "\n",
    "i = 0\n",
    "First_Value = 0\n",
    "Second_Value = 1\n",
    "           \n",
    "# Find & Displaying Fibonacci series\n",
    "while(i < Number):\n",
    "    if(i <= 1):\n",
    "        Next = i\n",
    "    else:\n",
    "        Next = First_Value + Second_Value\n",
    "        First_Value = Second_Value\n",
    "        Second_Value = Next\n",
    "    print(Next)\n",
    "    i = i + 1"
   ]
  },
  {
   "cell_type": "code",
   "execution_count": null,
   "metadata": {},
   "outputs": [],
   "source": []
  },
  {
   "cell_type": "code",
   "execution_count": null,
   "metadata": {},
   "outputs": [],
   "source": []
  },
  {
   "cell_type": "code",
   "execution_count": null,
   "metadata": {},
   "outputs": [],
   "source": []
  }
 ],
 "metadata": {
  "kernelspec": {
   "display_name": "Python 3",
   "language": "python",
   "name": "python3"
  },
  "language_info": {
   "codemirror_mode": {
    "name": "ipython",
    "version": 3
   },
   "file_extension": ".py",
   "mimetype": "text/x-python",
   "name": "python",
   "nbconvert_exporter": "python",
   "pygments_lexer": "ipython3",
   "version": "3.6.10"
  }
 },
 "nbformat": 4,
 "nbformat_minor": 4
}
